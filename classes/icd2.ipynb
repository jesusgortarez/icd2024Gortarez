{
 "cells": [
  {
   "cell_type": "markdown",
   "metadata": {},
   "source": [
    "# Noteboook ICD - 2"
   ]
  },
  {
   "cell_type": "markdown",
   "metadata": {},
   "source": [
    "## Basics of Jupyter"
   ]
  },
  {
   "cell_type": "markdown",
   "metadata": {},
   "source": [
    "This is a text: Hello world! Select option \"Markdown\". "
   ]
  },
  {
   "cell_type": "code",
   "execution_count": 7,
   "metadata": {},
   "outputs": [
    {
     "name": "stdout",
     "output_type": "stream",
     "text": [
      "Hello world. Select option: Code\n"
     ]
    }
   ],
   "source": [
    "print(\"Hello world. Select option: Code\")"
   ]
  },
  {
   "cell_type": "markdown",
   "metadata": {},
   "source": [
    "## Dataset: weather.numeric"
   ]
  },
  {
   "cell_type": "markdown",
   "metadata": {},
   "source": [
    "Install libraries using the package manager PIP"
   ]
  },
  {
   "cell_type": "code",
   "execution_count": 8,
   "metadata": {},
   "outputs": [
    {
     "name": "stdout",
     "output_type": "stream",
     "text": [
      "Defaulting to user installation because normal site-packages is not writeable\n",
      "Requirement already satisfied: pip in c:\\programdata\\anaconda3\\lib\\site-packages (22.2.2)\n",
      "Collecting pip\n",
      "  Using cached pip-24.2-py3-none-any.whl (1.8 MB)\n"
     ]
    },
    {
     "name": "stderr",
     "output_type": "stream",
     "text": [
      "ERROR: To modify pip, please run the following command:\n",
      "C:\\ProgramData\\Anaconda3\\python.exe -m pip install --upgrade pip\n"
     ]
    }
   ],
   "source": [
    "!pip install --upgrade pip"
   ]
  },
  {
   "cell_type": "code",
   "execution_count": 9,
   "metadata": {},
   "outputs": [
    {
     "name": "stdout",
     "output_type": "stream",
     "text": [
      "Defaulting to user installation because normal site-packages is not writeable\n",
      "Requirement already satisfied: pandas in c:\\users\\jesus\\appdata\\roaming\\python\\python39\\site-packages (1.2.3)\n",
      "Requirement already satisfied: pytz>=2017.3 in c:\\users\\jesus\\appdata\\roaming\\python\\python39\\site-packages (from pandas) (2021.1)\n",
      "Requirement already satisfied: python-dateutil>=2.7.3 in c:\\users\\jesus\\appdata\\roaming\\python\\python39\\site-packages (from pandas) (2.8.1)\n",
      "Requirement already satisfied: numpy>=1.16.5 in c:\\users\\jesus\\appdata\\roaming\\python\\python39\\site-packages (from pandas) (1.20.1)\n",
      "Requirement already satisfied: six>=1.5 in c:\\users\\jesus\\appdata\\roaming\\python\\python39\\site-packages (from python-dateutil>=2.7.3->pandas) (1.15.0)\n"
     ]
    }
   ],
   "source": [
    "!pip install pandas"
   ]
  },
  {
   "cell_type": "markdown",
   "metadata": {},
   "source": [
    "Import libraries"
   ]
  },
  {
   "cell_type": "code",
   "execution_count": 10,
   "metadata": {},
   "outputs": [],
   "source": [
    "import pandas as pd"
   ]
  },
  {
   "cell_type": "markdown",
   "metadata": {},
   "source": [
    "Import dataset in a dataframe"
   ]
  },
  {
   "cell_type": "code",
   "execution_count": 11,
   "metadata": {},
   "outputs": [],
   "source": [
    "df = pd.read_csv(r'weather.nominal.csv')"
   ]
  },
  {
   "cell_type": "markdown",
   "metadata": {},
   "source": [
    "Print dataset"
   ]
  },
  {
   "cell_type": "code",
   "execution_count": 12,
   "metadata": {},
   "outputs": [
    {
     "name": "stdout",
     "output_type": "stream",
     "text": [
      "     outlook temperature humidity  windy play\n",
      "0      sunny         hot     high  False   no\n",
      "1      sunny         hot     high   True   no\n",
      "2   overcast         hot     high  False  yes\n",
      "3      rainy        mild     high  False  yes\n",
      "4      rainy        cool   normal  False  yes\n",
      "5      rainy        cool   normal   True   no\n",
      "6   overcast        cool   normal   True  yes\n",
      "7      sunny        mild     high  False   no\n",
      "8      sunny        cool   normal  False  yes\n",
      "9      rainy        mild   normal  False  yes\n",
      "10     sunny        mild   normal   True  yes\n",
      "11  overcast        mild     high   True  yes\n",
      "12  overcast         hot   normal  False  yes\n",
      "13     rainy        mild     high   True   no\n"
     ]
    }
   ],
   "source": [
    "print(df)"
   ]
  },
  {
   "cell_type": "code",
   "execution_count": 13,
   "metadata": {},
   "outputs": [
    {
     "ename": "ValueError",
     "evalue": "hist method requires numerical or datetime columns, nothing to plot.",
     "output_type": "error",
     "traceback": [
      "\u001b[1;31m---------------------------------------------------------------------------\u001b[0m",
      "\u001b[1;31mValueError\u001b[0m                                Traceback (most recent call last)",
      "\u001b[1;32m~\\AppData\\Local\\Temp\\ipykernel_11516\\3499318098.py\u001b[0m in \u001b[0;36m<module>\u001b[1;34m\u001b[0m\n\u001b[1;32m----> 1\u001b[1;33m \u001b[0mdf\u001b[0m\u001b[1;33m.\u001b[0m\u001b[0mhist\u001b[0m\u001b[1;33m(\u001b[0m\u001b[1;33m)\u001b[0m\u001b[1;33m\u001b[0m\u001b[1;33m\u001b[0m\u001b[0m\n\u001b[0m",
      "\u001b[1;32m~\\AppData\\Roaming\\Python\\Python39\\site-packages\\pandas\\plotting\\_core.py\u001b[0m in \u001b[0;36mhist_frame\u001b[1;34m(data, column, by, grid, xlabelsize, xrot, ylabelsize, yrot, ax, sharex, sharey, figsize, layout, bins, backend, legend, **kwargs)\u001b[0m\n\u001b[0;32m    209\u001b[0m     \"\"\"\n\u001b[0;32m    210\u001b[0m     \u001b[0mplot_backend\u001b[0m \u001b[1;33m=\u001b[0m \u001b[0m_get_plot_backend\u001b[0m\u001b[1;33m(\u001b[0m\u001b[0mbackend\u001b[0m\u001b[1;33m)\u001b[0m\u001b[1;33m\u001b[0m\u001b[1;33m\u001b[0m\u001b[0m\n\u001b[1;32m--> 211\u001b[1;33m     return plot_backend.hist_frame(\n\u001b[0m\u001b[0;32m    212\u001b[0m         \u001b[0mdata\u001b[0m\u001b[1;33m,\u001b[0m\u001b[1;33m\u001b[0m\u001b[1;33m\u001b[0m\u001b[0m\n\u001b[0;32m    213\u001b[0m         \u001b[0mcolumn\u001b[0m\u001b[1;33m=\u001b[0m\u001b[0mcolumn\u001b[0m\u001b[1;33m,\u001b[0m\u001b[1;33m\u001b[0m\u001b[1;33m\u001b[0m\u001b[0m\n",
      "\u001b[1;32m~\\AppData\\Roaming\\Python\\Python39\\site-packages\\pandas\\plotting\\_matplotlib\\hist.py\u001b[0m in \u001b[0;36mhist_frame\u001b[1;34m(data, column, by, grid, xlabelsize, xrot, ylabelsize, yrot, ax, sharex, sharey, figsize, layout, bins, legend, **kwds)\u001b[0m\n\u001b[0;32m    425\u001b[0m \u001b[1;33m\u001b[0m\u001b[0m\n\u001b[0;32m    426\u001b[0m     \u001b[1;32mif\u001b[0m \u001b[0mnaxes\u001b[0m \u001b[1;33m==\u001b[0m \u001b[1;36m0\u001b[0m\u001b[1;33m:\u001b[0m\u001b[1;33m\u001b[0m\u001b[1;33m\u001b[0m\u001b[0m\n\u001b[1;32m--> 427\u001b[1;33m         raise ValueError(\n\u001b[0m\u001b[0;32m    428\u001b[0m             \u001b[1;34m\"hist method requires numerical or datetime columns, nothing to plot.\"\u001b[0m\u001b[1;33m\u001b[0m\u001b[1;33m\u001b[0m\u001b[0m\n\u001b[0;32m    429\u001b[0m         )\n",
      "\u001b[1;31mValueError\u001b[0m: hist method requires numerical or datetime columns, nothing to plot."
     ]
    }
   ],
   "source": [
    "df.hist()"
   ]
  },
  {
   "cell_type": "code",
   "execution_count": null,
   "metadata": {},
   "outputs": [],
   "source": [
    "df['Outlook'].value_counts().plot(kind=\"pie\")"
   ]
  },
  {
   "cell_type": "code",
   "execution_count": null,
   "metadata": {},
   "outputs": [],
   "source": [
    "df['Wind'].value_counts().plot(kind=\"pie\")"
   ]
  },
  {
   "cell_type": "code",
   "execution_count": null,
   "metadata": {},
   "outputs": [],
   "source": [
    "df['Play'].value_counts().plot(kind=\"pie\")"
   ]
  },
  {
   "cell_type": "code",
   "execution_count": null,
   "metadata": {},
   "outputs": [],
   "source": [
    "type(df)"
   ]
  },
  {
   "cell_type": "markdown",
   "metadata": {},
   "source": [
    "## Type of data (python)"
   ]
  },
  {
   "cell_type": "markdown",
   "metadata": {},
   "source": [
    "### Python type()  Function"
   ]
  },
  {
   "cell_type": "markdown",
   "metadata": {},
   "source": [
    "DataType Output: str"
   ]
  },
  {
   "cell_type": "code",
   "execution_count": null,
   "metadata": {},
   "outputs": [],
   "source": [
    "x = \"Hello World\"\n",
    "print(x)\n",
    "type(x)"
   ]
  },
  {
   "cell_type": "markdown",
   "metadata": {},
   "source": [
    "DataType Output: int"
   ]
  },
  {
   "cell_type": "code",
   "execution_count": null,
   "metadata": {},
   "outputs": [],
   "source": [
    "x = 50\n",
    "print(x)\n",
    "type(x)"
   ]
  },
  {
   "cell_type": "markdown",
   "metadata": {},
   "source": [
    "DataType Output: float"
   ]
  },
  {
   "cell_type": "code",
   "execution_count": null,
   "metadata": {},
   "outputs": [],
   "source": [
    "x = 60.5\n",
    "print(x)\n",
    "type(x)"
   ]
  },
  {
   "cell_type": "markdown",
   "metadata": {},
   "source": [
    "DataType Output: complex"
   ]
  },
  {
   "cell_type": "code",
   "execution_count": null,
   "metadata": {},
   "outputs": [],
   "source": [
    "x = 3j\n",
    "print(x)\n",
    "type(x)"
   ]
  },
  {
   "cell_type": "markdown",
   "metadata": {},
   "source": [
    "DataType Output: list"
   ]
  },
  {
   "cell_type": "code",
   "execution_count": null,
   "metadata": {},
   "outputs": [],
   "source": [
    "x = [\"intro\", \"data\", \"science\"]\n",
    "print(x)\n",
    "type(x)"
   ]
  },
  {
   "cell_type": "markdown",
   "metadata": {},
   "source": [
    "DataType Output: tuple"
   ]
  },
  {
   "cell_type": "code",
   "execution_count": null,
   "metadata": {},
   "outputs": [],
   "source": [
    "x = (\"intro\", \"data\", \"science\")\n",
    "print(x)\n",
    "type(x)"
   ]
  },
  {
   "cell_type": "markdown",
   "metadata": {},
   "source": [
    "DataType Output: range"
   ]
  },
  {
   "cell_type": "code",
   "execution_count": null,
   "metadata": {},
   "outputs": [],
   "source": [
    "x = range(10)\n",
    "print(x)\n",
    "type(x)"
   ]
  },
  {
   "cell_type": "markdown",
   "metadata": {},
   "source": [
    "DataType Output: dictionary"
   ]
  },
  {
   "cell_type": "code",
   "execution_count": null,
   "metadata": {},
   "outputs": [],
   "source": [
    "x = {\"name\": \"hussein\", \"age\": 24}\n",
    "print(x)\n",
    "type(x)"
   ]
  },
  {
   "cell_type": "markdown",
   "metadata": {},
   "source": [
    "DataType Output: set"
   ]
  },
  {
   "cell_type": "code",
   "execution_count": null,
   "metadata": {},
   "outputs": [],
   "source": [
    "x = {\"intro\", \"data\", \"science\"}\n",
    "print(x)\n",
    "type(x)"
   ]
  },
  {
   "cell_type": "markdown",
   "metadata": {},
   "source": [
    "DataType Output: frozenset"
   ]
  },
  {
   "cell_type": "code",
   "execution_count": null,
   "metadata": {},
   "outputs": [],
   "source": [
    "x = frozenset({\"intro\", \"data\", \"science\"})\n",
    "print(x)\n",
    "type(x)"
   ]
  },
  {
   "cell_type": "markdown",
   "metadata": {},
   "source": [
    "DataType Output: boolean"
   ]
  },
  {
   "cell_type": "code",
   "execution_count": null,
   "metadata": {},
   "outputs": [],
   "source": [
    "x = True\n",
    "print(x)\n",
    "type(x)"
   ]
  },
  {
   "cell_type": "markdown",
   "metadata": {},
   "source": [
    "DataType Output: bytes"
   ]
  },
  {
   "cell_type": "code",
   "execution_count": null,
   "metadata": {},
   "outputs": [],
   "source": [
    "x = b\"intro\"\n",
    "print(x)\n",
    "type(x)"
   ]
  },
  {
   "cell_type": "markdown",
   "metadata": {},
   "source": [
    "DataType Output: bytearray"
   ]
  },
  {
   "cell_type": "code",
   "execution_count": null,
   "metadata": {},
   "outputs": [],
   "source": [
    "x = bytearray(4)\n",
    "print(x)\n",
    "type(x)"
   ]
  },
  {
   "cell_type": "markdown",
   "metadata": {},
   "source": [
    "DataType Output: memoryview"
   ]
  },
  {
   "cell_type": "code",
   "execution_count": null,
   "metadata": {},
   "outputs": [],
   "source": [
    "x = memoryview(bytes(6))\n",
    "print(x)\n",
    "type(x)"
   ]
  },
  {
   "cell_type": "markdown",
   "metadata": {},
   "source": [
    "DataType Output: NoneType"
   ]
  },
  {
   "cell_type": "code",
   "execution_count": null,
   "metadata": {},
   "outputs": [],
   "source": [
    "x = None\n",
    "print(x)\n",
    "type(x)"
   ]
  },
  {
   "cell_type": "markdown",
   "metadata": {},
   "source": [
    "### Numeric Data Type"
   ]
  },
  {
   "cell_type": "code",
   "execution_count": null,
   "metadata": {},
   "outputs": [],
   "source": [
    "# Python program to\n",
    "# demonstrate numeric value\n",
    " \n",
    "a = 5\n",
    "print(\"Type of a: \", type(a))\n",
    " \n",
    "b = 5.0\n",
    "print(\"\\nType of b: \", type(b))\n",
    " \n",
    "c = 2 + 4j\n",
    "print(\"\\nType of c: \", type(c))"
   ]
  },
  {
   "cell_type": "markdown",
   "metadata": {},
   "source": [
    "### Sequence Data Type"
   ]
  },
  {
   "cell_type": "code",
   "execution_count": null,
   "metadata": {},
   "outputs": [],
   "source": [
    "# Python Program for\n",
    "# Creation of String\n",
    " \n",
    "# Creating a String\n",
    "# with single Quotes\n",
    "String1 = 'Welcome to Intro to Data Science'\n",
    "print(\"String with the use of Single Quotes: \")\n",
    "print(String1)\n",
    " \n",
    "# Creating a String\n",
    "# with double Quotes\n",
    "String1 = \"I'm Hussein\"\n",
    "print(\"\\nString with the use of Double Quotes: \")\n",
    "print(String1)\n",
    "print(type(String1))\n",
    " \n",
    "# Creating a String\n",
    "# with triple Quotes\n",
    "String1 = '''I'm a Hussein and I teach Intro to \"Data Science\"'''\n",
    "print(\"\\nString with the use of Triple Quotes: \")\n",
    "print(String1)\n",
    "print(type(String1))\n",
    " \n",
    "# Creating String with triple\n",
    "# Quotes allows multiple lines\n",
    "String1 = '''Intro\n",
    "            Data\n",
    "            Science'''\n",
    "print(\"\\nCreating a multiline String: \")\n",
    "print(String1)"
   ]
  },
  {
   "cell_type": "code",
   "execution_count": null,
   "metadata": {},
   "outputs": [],
   "source": [
    "# Python Program to Access\n",
    "# characters of String\n",
    " \n",
    "String1 = \"IntroDataScience\"\n",
    "print(\"Initial String: \")\n",
    "print(String1)\n",
    " \n",
    "# Printing First character\n",
    "print(\"\\nFirst character of String is: \")\n",
    "print(String1[0])\n",
    " \n",
    "# Printing Last character\n",
    "print(\"\\nLast character of String is: \")\n",
    "print(String1[-1])"
   ]
  },
  {
   "cell_type": "code",
   "execution_count": null,
   "metadata": {},
   "outputs": [],
   "source": [
    "# Creating a List\n",
    "List = []\n",
    "print(\"Initial blank List: \")\n",
    "print(List)\n",
    " \n",
    "# Creating a List with\n",
    "# the use of a String\n",
    "List = ['IntroDataScience']\n",
    "print(\"\\nList with the use of String: \")\n",
    "print(List)\n",
    " \n",
    "# Creating a List with\n",
    "# the use of multiple values\n",
    "List = [\"Intro\", \"Data\", \"Science\"]\n",
    "print(\"\\nList containing multiple values: \")\n",
    "print(List[0])\n",
    "print(List[2])\n",
    " \n",
    "# Creating a Multi-Dimensional List\n",
    "# (By Nesting a list inside a List)\n",
    "List = [['Intro', 'Data'], ['Science']]\n",
    "print(\"\\nMulti-Dimensional List: \")\n",
    "print(List)"
   ]
  },
  {
   "cell_type": "code",
   "execution_count": null,
   "metadata": {},
   "outputs": [],
   "source": [
    "# Python program to demonstrate\n",
    "# accessing of element from list\n",
    " \n",
    "# Creating a List with\n",
    "# the use of multiple values\n",
    "List = [\"Intro\", \"Data\", \"Science\"]\n",
    " \n",
    "# accessing a element from the\n",
    "# list using index number\n",
    "print(\"Accessing element from the list\")\n",
    "print(List[0])\n",
    "print(List[2])\n",
    " \n",
    "# accessing a element using\n",
    "# negative indexing\n",
    "print(\"Accessing element using negative indexing\")\n",
    " \n",
    "# print the last element of list\n",
    "print(List[-1])\n",
    " \n",
    "# print the third last element of list\n",
    "print(List[-3])"
   ]
  },
  {
   "cell_type": "code",
   "execution_count": null,
   "metadata": {},
   "outputs": [],
   "source": [
    "# Creating an empty tuple\n",
    "Tuple1 = ()\n",
    "print(\"Initial empty Tuple: \")\n",
    "print(Tuple1)\n",
    " \n",
    "# Creating a Tuple with\n",
    "# the use of Strings\n",
    "Tuple1 = ('Intro', 'Data')\n",
    "print(\"\\nTuple with the use of String: \")\n",
    "print(Tuple1)\n",
    " \n",
    "# Creating a Tuple with\n",
    "# the use of list\n",
    "list1 = [1, 2, 4, 5, 6]\n",
    "print(\"\\nTuple using List: \")\n",
    "print(tuple(list1))\n",
    " \n",
    "# Creating a Tuple with the\n",
    "# use of built-in function\n",
    "Tuple1 = tuple('Science')\n",
    "print(\"\\nTuple with the use of function: \")\n",
    "print(Tuple1)\n",
    " \n",
    "# Creating a Tuple\n",
    "# with nested tuples\n",
    "Tuple1 = (0, 1, 2, 3)\n",
    "Tuple2 = ('python', 'hussein')\n",
    "Tuple3 = (Tuple1, Tuple2)\n",
    "print(\"\\nTuple with nested tuples: \")\n",
    "print(Tuple3)"
   ]
  },
  {
   "cell_type": "code",
   "execution_count": null,
   "metadata": {},
   "outputs": [],
   "source": [
    "# Python program to\n",
    "# demonstrate accessing tuple\n",
    " \n",
    "tuple1 = tuple([1, 2, 3, 4, 5])\n",
    " \n",
    "# Accessing element using indexing\n",
    "print(\"First element of tuple\")\n",
    "print(tuple1[0])\n",
    " \n",
    "# Accessing element from last\n",
    "# negative indexing\n",
    "print(\"\\nLast element of tuple\")\n",
    "print(tuple1[-1])\n",
    " \n",
    "print(\"\\nThird last element of tuple\")\n",
    "print(tuple1[-3])"
   ]
  },
  {
   "cell_type": "markdown",
   "metadata": {},
   "source": [
    "### Boolean data type"
   ]
  },
  {
   "cell_type": "code",
   "execution_count": null,
   "metadata": {},
   "outputs": [],
   "source": [
    "# Python program to\n",
    "# demonstrate boolean type\n",
    " \n",
    "print(type(True))\n",
    "print(type(False))"
   ]
  },
  {
   "cell_type": "markdown",
   "metadata": {},
   "source": [
    "### Set data type"
   ]
  },
  {
   "cell_type": "code",
   "execution_count": null,
   "metadata": {},
   "outputs": [],
   "source": [
    "# Python program to demonstrate\n",
    "# Creation of Set in Python\n",
    " \n",
    "# Creating a Set\n",
    "set1 = set()\n",
    "print(\"Initial blank Set: \")\n",
    "print(set1)\n",
    " \n",
    "# Creating a Set with\n",
    "# the use of a String\n",
    "set1 = set(\"IntroDataScience\")\n",
    "print(\"\\nSet with the use of String: \")\n",
    "print(set1)\n",
    " \n",
    "# Creating a Set with\n",
    "# the use of a List\n",
    "set1 = set([\"Intro\", \"Data\", \"Science\"])\n",
    "print(\"\\nSet with the use of List: \")\n",
    "print(set1)\n",
    " \n",
    "# Creating a Set with\n",
    "# a mixed type of values\n",
    "# (Having numbers and strings)\n",
    "set1 = set([1, 2, 'Intro', 4, 'Data', 6, 'Science'])\n",
    "print(\"\\nSet with the use of Mixed Values\")\n",
    "print(set1)"
   ]
  },
  {
   "cell_type": "code",
   "execution_count": null,
   "metadata": {},
   "outputs": [],
   "source": [
    "# Python program to demonstrate\n",
    "# Accessing of elements in a set\n",
    " \n",
    "# Creating a set\n",
    "set1 = set([\"Intro\", \"Data\", \"Science\"])\n",
    "print(\"\\nInitial set\")\n",
    "print(set1)\n",
    " \n",
    "# Accessing element using\n",
    "# for loop\n",
    "print(\"\\nElements of set: \")\n",
    "for i in set1:\n",
    "    print(i, end=\" \")\n",
    " \n",
    "# Checking the element\n",
    "# using in keyword\n",
    "print(\"Science\" in set1)"
   ]
  },
  {
   "cell_type": "markdown",
   "metadata": {},
   "source": [
    "### Dictionary data type"
   ]
  },
  {
   "cell_type": "code",
   "execution_count": null,
   "metadata": {},
   "outputs": [],
   "source": [
    "# Creating an empty Dictionary\n",
    "Dict = {}\n",
    "print(\"Empty Dictionary: \")\n",
    "print(Dict)\n",
    " \n",
    "# Creating a Dictionary\n",
    "# with Integer Keys\n",
    "Dict = {1: 'Intro', 2: 'Data', 3: 'Science'}\n",
    "print(\"\\nDictionary with the use of Integer Keys: \")\n",
    "print(Dict)\n",
    " \n",
    "# Creating a Dictionary\n",
    "# with Mixed keys\n",
    "Dict = {'Name': 'Hussein', 1: [1, 2, 3, 4]}\n",
    "print(\"\\nDictionary with the use of Mixed Keys: \")\n",
    "print(Dict)\n",
    " \n",
    "# Creating a Dictionary\n",
    "# with dict() method\n",
    "Dict = dict({1: 'Hussein', 2: 'For', 3: 'Lopez'})\n",
    "print(\"\\nDictionary with the use of dict(): \")\n",
    "print(Dict)\n",
    " \n",
    "# Creating a Dictionary\n",
    "# with each item as a Pair\n",
    "Dict = dict([(1, 'Data'), (2, 'Science')])\n",
    "print(\"\\nDictionary with each item as a pair: \")\n",
    "print(Dict)"
   ]
  },
  {
   "cell_type": "code",
   "execution_count": null,
   "metadata": {},
   "outputs": [],
   "source": [
    "# Python program to demonstrate\n",
    "# accessing a element from a Dictionary\n",
    " \n",
    "# Creating a Dictionary\n",
    "Dict = {1: 'Intro', 'hussein': 'Data', 3: 'Science'}\n",
    " \n",
    "# accessing a element using key\n",
    "print(\"Accessing a element using key:\")\n",
    "print(Dict['hussein'])\n",
    " \n",
    "# accessing a element using get()\n",
    "# method\n",
    "print(\"Accessing a element using get:\")\n",
    "print(Dict.get(3))"
   ]
  },
  {
   "cell_type": "code",
   "execution_count": null,
   "metadata": {},
   "outputs": [],
   "source": []
  },
  {
   "cell_type": "code",
   "execution_count": null,
   "metadata": {},
   "outputs": [],
   "source": []
  }
 ],
 "metadata": {
  "kernelspec": {
   "display_name": "Python 3 (ipykernel)",
   "language": "python",
   "name": "python3"
  },
  "language_info": {
   "codemirror_mode": {
    "name": "ipython",
    "version": 3
   },
   "file_extension": ".py",
   "mimetype": "text/x-python",
   "name": "python",
   "nbconvert_exporter": "python",
   "pygments_lexer": "ipython3",
   "version": "3.9.13"
  }
 },
 "nbformat": 4,
 "nbformat_minor": 4
}

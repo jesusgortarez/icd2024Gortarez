{
 "cells": [
  {
   "cell_type": "markdown",
   "id": "92c9d628-133e-4ae8-948b-3c59fedcdc6e",
   "metadata": {},
   "source": [
    "# Notebook ICD - 11"
   ]
  },
  {
   "cell_type": "markdown",
   "id": "d45a0da5-27a1-48a5-8c8d-a973efc9bbf6",
   "metadata": {},
   "source": [
    "## Logistic Regression mediante Statsmodels"
   ]
  },
  {
   "cell_type": "markdown",
   "id": "a8c55621-b16a-4a9e-bc2b-6ef759ba6bd8",
   "metadata": {},
   "source": [
    "La regresión logística es el tipo de análisis de regresión que se utiliza para encontrar la probabilidad de que ocurra un determinado evento. Es el tipo de regresión más adecuado para los casos que se tiene una variable dependiente categórica."
   ]
  },
  {
   "cell_type": "code",
   "execution_count": 1,
   "id": "21e546ea",
   "metadata": {},
   "outputs": [
    {
     "name": "stdout",
     "output_type": "stream",
     "text": [
      "Requirement already satisfied: statsmodels in c:\\users\\jesus\\.conda\\envs\\datascience\\lib\\site-packages (0.14.3)\n",
      "Requirement already satisfied: numpy<3,>=1.22.3 in c:\\users\\jesus\\.conda\\envs\\datascience\\lib\\site-packages (from statsmodels) (1.26.4)\n",
      "Requirement already satisfied: scipy!=1.9.2,>=1.8 in c:\\users\\jesus\\.conda\\envs\\datascience\\lib\\site-packages (from statsmodels) (1.13.1)\n",
      "Requirement already satisfied: pandas!=2.1.0,>=1.4 in c:\\users\\jesus\\.conda\\envs\\datascience\\lib\\site-packages (from statsmodels) (2.2.2)\n",
      "Requirement already satisfied: patsy>=0.5.6 in c:\\users\\jesus\\.conda\\envs\\datascience\\lib\\site-packages (from statsmodels) (0.5.6)\n",
      "Requirement already satisfied: packaging>=21.3 in c:\\users\\jesus\\.conda\\envs\\datascience\\lib\\site-packages (from statsmodels) (24.1)\n",
      "Requirement already satisfied: python-dateutil>=2.8.2 in c:\\users\\jesus\\.conda\\envs\\datascience\\lib\\site-packages (from pandas!=2.1.0,>=1.4->statsmodels) (2.9.0.post0)\n",
      "Requirement already satisfied: pytz>=2020.1 in c:\\users\\jesus\\.conda\\envs\\datascience\\lib\\site-packages (from pandas!=2.1.0,>=1.4->statsmodels) (2024.1)\n",
      "Requirement already satisfied: tzdata>=2022.7 in c:\\users\\jesus\\.conda\\envs\\datascience\\lib\\site-packages (from pandas!=2.1.0,>=1.4->statsmodels) (2023.3)\n",
      "Requirement already satisfied: six in c:\\users\\jesus\\.conda\\envs\\datascience\\lib\\site-packages (from patsy>=0.5.6->statsmodels) (1.16.0)\n",
      "Note: you may need to restart the kernel to use updated packages.\n"
     ]
    }
   ],
   "source": [
    "%pip install statsmodels"
   ]
  },
  {
   "cell_type": "markdown",
   "id": "c52ac27b-f310-433a-8f0f-c137ea120975",
   "metadata": {},
   "source": [
    "Importar librerias"
   ]
  },
  {
   "cell_type": "code",
   "execution_count": 2,
   "id": "61bb7833-a1e5-41ad-8007-e537839d277f",
   "metadata": {},
   "outputs": [],
   "source": [
    "import statsmodels.api as sm\n",
    "import pandas as pd\n",
    "import numpy as np"
   ]
  },
  {
   "cell_type": "markdown",
   "id": "b987cdc6-37ec-4eb5-920b-8b35d5ba694b",
   "metadata": {},
   "source": [
    "### Dataset"
   ]
  },
  {
   "cell_type": "markdown",
   "id": "e738af67-3ba7-40d4-b9f9-119776418cb5",
   "metadata": {},
   "source": [
    "El objetivo es 'predecir' si un estudiante será admitido en una universidad, en función de su GMAT (Graduate Management Admission Test), puntajes de GPA (Grade Point Average), y su experiencia laboral. La variable dependiente aquí es una variable logística binaria, que se espera que adopte estrictamente una de dos formas, i.e., admitido o no admitido."
   ]
  },
  {
   "cell_type": "code",
   "execution_count": 3,
   "id": "5c6e7aa5-88ec-4ecf-80af-067d3d465da2",
   "metadata": {},
   "outputs": [
    {
     "data": {
      "text/html": [
       "<div>\n",
       "<style scoped>\n",
       "    .dataframe tbody tr th:only-of-type {\n",
       "        vertical-align: middle;\n",
       "    }\n",
       "\n",
       "    .dataframe tbody tr th {\n",
       "        vertical-align: top;\n",
       "    }\n",
       "\n",
       "    .dataframe thead th {\n",
       "        text-align: right;\n",
       "    }\n",
       "</style>\n",
       "<table border=\"1\" class=\"dataframe\">\n",
       "  <thead>\n",
       "    <tr style=\"text-align: right;\">\n",
       "      <th></th>\n",
       "      <th>gmat</th>\n",
       "      <th>gpa</th>\n",
       "      <th>work_experience</th>\n",
       "      <th>admitted</th>\n",
       "    </tr>\n",
       "  </thead>\n",
       "  <tbody>\n",
       "    <tr>\n",
       "      <th>count</th>\n",
       "      <td>30.000000</td>\n",
       "      <td>30.000000</td>\n",
       "      <td>30.000000</td>\n",
       "      <td>30.000000</td>\n",
       "    </tr>\n",
       "    <tr>\n",
       "      <th>mean</th>\n",
       "      <td>650.000000</td>\n",
       "      <td>3.150000</td>\n",
       "      <td>3.666667</td>\n",
       "      <td>0.500000</td>\n",
       "    </tr>\n",
       "    <tr>\n",
       "      <th>std</th>\n",
       "      <td>63.734363</td>\n",
       "      <td>0.664234</td>\n",
       "      <td>1.667816</td>\n",
       "      <td>0.508548</td>\n",
       "    </tr>\n",
       "    <tr>\n",
       "      <th>min</th>\n",
       "      <td>540.000000</td>\n",
       "      <td>1.700000</td>\n",
       "      <td>1.000000</td>\n",
       "      <td>0.000000</td>\n",
       "    </tr>\n",
       "    <tr>\n",
       "      <th>25%</th>\n",
       "      <td>590.000000</td>\n",
       "      <td>2.700000</td>\n",
       "      <td>2.000000</td>\n",
       "      <td>0.000000</td>\n",
       "    </tr>\n",
       "    <tr>\n",
       "      <th>50%</th>\n",
       "      <td>660.000000</td>\n",
       "      <td>3.300000</td>\n",
       "      <td>4.000000</td>\n",
       "      <td>0.500000</td>\n",
       "    </tr>\n",
       "    <tr>\n",
       "      <th>75%</th>\n",
       "      <td>690.000000</td>\n",
       "      <td>3.700000</td>\n",
       "      <td>5.000000</td>\n",
       "      <td>1.000000</td>\n",
       "    </tr>\n",
       "    <tr>\n",
       "      <th>max</th>\n",
       "      <td>780.000000</td>\n",
       "      <td>4.000000</td>\n",
       "      <td>6.000000</td>\n",
       "      <td>1.000000</td>\n",
       "    </tr>\n",
       "  </tbody>\n",
       "</table>\n",
       "</div>"
      ],
      "text/plain": [
       "             gmat        gpa  work_experience   admitted\n",
       "count   30.000000  30.000000        30.000000  30.000000\n",
       "mean   650.000000   3.150000         3.666667   0.500000\n",
       "std     63.734363   0.664234         1.667816   0.508548\n",
       "min    540.000000   1.700000         1.000000   0.000000\n",
       "25%    590.000000   2.700000         2.000000   0.000000\n",
       "50%    660.000000   3.300000         4.000000   0.500000\n",
       "75%    690.000000   3.700000         5.000000   1.000000\n",
       "max    780.000000   4.000000         6.000000   1.000000"
      ]
     },
     "execution_count": 3,
     "metadata": {},
     "output_type": "execute_result"
    }
   ],
   "source": [
    "# loading the training dataset \n",
    "df = pd.read_csv('logit_train.csv', index_col = 0)\n",
    "df.describe()"
   ]
  },
  {
   "cell_type": "markdown",
   "id": "0651f01b-793e-43dc-8a5d-484b125c9ace",
   "metadata": {},
   "source": [
    "### Partición de los datos\n",
    "\n",
    "X_train para el vector de características y y_train para las etiquetas. Se muestran los primeros valores para cada dataframe."
   ]
  },
  {
   "cell_type": "code",
   "execution_count": 4,
   "id": "c15b1808-f4c6-45a6-a8fa-b892cc1320c2",
   "metadata": {},
   "outputs": [
    {
     "name": "stdout",
     "output_type": "stream",
     "text": [
      "    gmat  gpa  work_experience\n",
      "16   580  2.7                4\n",
      "33   660  3.3                6\n",
      "8    740  3.3                5\n",
      "38   590  1.7                4\n",
      "32   660  4.0                4\n",
      "    admitted\n",
      "16         0\n",
      "33         1\n",
      "8          1\n",
      "38         0\n",
      "32         1\n"
     ]
    }
   ],
   "source": [
    "# defining the dependent and independent variables\n",
    "X_train = df[['gmat', 'gpa', 'work_experience']]\n",
    "y_train = df[['admitted']]\n",
    "\n",
    "print(X_train.head())\n",
    "print(y_train.head())"
   ]
  },
  {
   "cell_type": "markdown",
   "id": "c1a59f8a-cefe-440b-b1a4-69afdc6b5329",
   "metadata": {},
   "source": [
    "### Análisis exploratorio\n",
    "\n",
    "Se realizó un análisis exploratorio de los datos, visualizando las relaciones entre las variables numéricas. Inicialmente, se exploró la relación entre la variable binaria 'admitted' y el resto de las variables numéricas mediante gráficos de dispersión con una línea de regresión lineal simple. \n",
    "\n",
    "Sin embargo, es importante notar que la regresión lineal simple no es el modelo más adecuado para predecir una variable binaria, ya que asume una relación lineal entre las variables y una distribución normal de los residuos, lo cual no se cumple en este caso."
   ]
  },
  {
   "cell_type": "code",
   "execution_count": 5,
   "id": "3145ecb1-61d7-4a98-a4d0-5efd8a5237b9",
   "metadata": {},
   "outputs": [
    {
     "data": {
      "image/png": "[encoded data removed]",
      "text/plain": [
       "<Figure size 800x800 with 14 Axes>"
      ]
     },
     "metadata": {},
     "output_type": "display_data"
    }
   ],
   "source": [
    "import seaborn as sns\n",
    "import matplotlib.pyplot as plt\n",
    "\n",
    "pairplot = sns.pairplot(df, height=2, aspect=1, corner=True)\n",
    "\n",
    "## Define function to plot a single regression line\n",
    "def regline(x, y, **kwargs):\n",
    "    sns.regplot(data=kwargs['data'], x=x.name, y=y.name, scatter=False, color=kwargs['color'])\n",
    "\n",
    "## Call the function for each non-diagonal subplot within pairplot\n",
    "pairplot.map_offdiag(regline, color='red', data=df)\n",
    "\n",
    "plt.tight_layout()\n",
    "plt.show()"
   ]
  },
  {
   "cell_type": "markdown",
   "id": "aea2753d-4870-4242-a2d7-e9a03a45d356",
   "metadata": {},
   "source": [
    "### Generación del modelo de Regresión Logística"
   ]
  },
  {
   "cell_type": "markdown",
   "id": "fb519121-e4d4-4b52-9af7-a1d9178b0a05",
   "metadata": {},
   "source": [
    "Statsmodels es un módulo de Python que proporciona varias funciones para estimar diferentes modelos estadísticos y realizar pruebas estadísticas.\n",
    "\n",
    "Primero, se define el conjunto de variables dependientes (y) e independientes (X). Si la variable dependiente está en forma no numérica, se convierte. Statsmodels proporciona la función Logit() para realizar regresión logística. La función Logit() acepta y y X como parámetros y devuelve el objeto Logit. Luego se ajusta el modelo a los datos."
   ]
  },
  {
   "cell_type": "code",
   "execution_count": 6,
   "id": "732aa7d8-eccb-446a-899e-22186a8903f0",
   "metadata": {},
   "outputs": [
    {
     "name": "stdout",
     "output_type": "stream",
     "text": [
      "Optimization terminated successfully.\n",
      "         Current function value: 0.352707\n",
      "         Iterations 8\n"
     ]
    }
   ],
   "source": [
    "# building the model and fitting the data\n",
    "log_reg = sm.Logit(y_train, X_train).fit()"
   ]
  },
  {
   "cell_type": "markdown",
   "id": "6d49afee-bc05-421d-9226-44d1eb154f19",
   "metadata": {},
   "source": [
    "En el resultado, 'Iterations' se refiere a la cantidad de veces que el modelo itera sobre los datos, tratando de optimizar el modelo. De forma predeterminada, el número máximo de iteraciones realizadas es 35, tras lo cual la optimización termina."
   ]
  },
  {
   "cell_type": "markdown",
   "id": "e6692305-52d5-4e3a-abeb-a28b9400fe7e",
   "metadata": {},
   "source": [
    "### Mostrar los resultados del modelo"
   ]
  },
  {
   "cell_type": "code",
   "execution_count": 7,
   "id": "b3d7c33c-3ecc-4492-94ce-890425078840",
   "metadata": {},
   "outputs": [
    {
     "name": "stdout",
     "output_type": "stream",
     "text": [
      "                           Logit Regression Results                           \n",
      "==============================================================================\n",
      "Dep. Variable:               admitted   No. Observations:                   30\n",
      "Model:                          Logit   Df Residuals:                       27\n",
      "Method:                           MLE   Df Model:                            2\n",
      "Date:                Mon, 30 Sep 2024   Pseudo R-squ.:                  0.4912\n",
      "Time:                        12:51:23   Log-Likelihood:                -10.581\n",
      "converged:                       True   LL-Null:                       -20.794\n",
      "Covariance Type:            nonrobust   LLR p-value:                 3.668e-05\n",
      "===================================================================================\n",
      "                      coef    std err          z      P>|z|      [0.025      0.975]\n",
      "-----------------------------------------------------------------------------------\n",
      "gmat               -0.0262      0.011     -2.383      0.017      -0.048      -0.005\n",
      "gpa                 3.9422      1.964      2.007      0.045       0.092       7.792\n",
      "work_experience     1.1983      0.482      2.487      0.013       0.254       2.143\n",
      "===================================================================================\n"
     ]
    }
   ],
   "source": [
    "# printing the summary table\n",
    "print(log_reg.summary())"
   ]
  },
  {
   "cell_type": "markdown",
   "id": "34f4d813-e33d-49fa-962a-0a9d6c6f384b",
   "metadata": {},
   "source": [
    "donde\n",
    "\n",
    "coef: los coeficientes de las variables independientes en la ecuación de regresión.\n",
    "Log-Likelihood: el logaritmo natural de la función de estimación de máxima verosimilitud (MLE). MLE es el proceso de optimización para encontrar el conjunto de parámetros que resulten en el mejor ajuste.\n",
    "LL-Null: el valor de Log-Likelihood del modelo cuando no se incluye ninguna variable independiente (solo se incluye una intersección).\n",
    "Pseudo R-squ.: un sustituto del valor de R cuadrado en la regresión lineal de mínimos cuadrados. Es la relación entre la probabilidad logarítmica del modelo nulo y la del modelo completo."
   ]
  },
  {
   "cell_type": "markdown",
   "id": "a322fe8a-d8de-43d7-bffc-bfdc5b088cdd",
   "metadata": {},
   "source": [
    "## Predicción sobre nuevos datos"
   ]
  },
  {
   "cell_type": "markdown",
   "id": "7c352bdf-a32f-4e3e-935f-66ae70f140c6",
   "metadata": {},
   "source": [
    "Ahora el modelo se usará con nuevos datos. La función predict() se utiliza para las predicciones. Las predicciones obtenidas son valores fraccionarios (entre 0 y 1) que denotan la probabilidad de ser admitido. Por lo tanto, estos valores se redondean para obtener valores discretos de 1 o 0."
   ]
  },
  {
   "cell_type": "code",
   "execution_count": 8,
   "id": "bedc736e-1484-436d-a4a4-e686ada8dfdd",
   "metadata": {},
   "outputs": [
    {
     "name": "stdout",
     "output_type": "stream",
     "text": [
      "y_hat:\n",
      " 35    0.001178\n",
      "36    0.011084\n",
      "30    0.023620\n",
      "10    0.151511\n",
      "21    0.001335\n",
      "7     0.261632\n",
      "14    0.028082\n",
      "15    0.050366\n",
      "34    0.769849\n",
      "12    0.960745\n",
      "dtype: float64\n",
      "Actual values [0, 0, 0, 0, 0, 1, 1, 0, 1, 1]\n",
      "Predictions : [0, 0, 0, 0, 0, 0, 0, 0, 1, 1]\n"
     ]
    }
   ],
   "source": [
    "# loading the testing dataset  \n",
    "df = pd.read_csv('logit_test.csv', index_col = 0)\n",
    "  \n",
    "# defining the dependent and independent variables\n",
    "X_test = df[['gmat', 'gpa', 'work_experience']]\n",
    "y_test = df['admitted']\n",
    "  \n",
    "# performing predictions on the test dataset\n",
    "y_hat = log_reg.predict(X_test)\n",
    "prediction = list(map(round, y_hat))\n",
    "print('y_hat:\\n', y_hat)\n",
    "  \n",
    "# comparing original and predicted values of y\n",
    "print('Actual values', list(y_test.values))\n",
    "print('Predictions :', prediction)"
   ]
  },
  {
   "cell_type": "markdown",
   "id": "28c38f3a-3d84-4019-8873-7c06323c2dca",
   "metadata": {},
   "source": [
    "### ¿Qué tan bueno es el modelo?\n",
    "\n",
    "Comparemos las predicciones realizadas por el modelo vs. las etiquetas verdaderas construyendo una matriz de confusión y calculando una métrica de rendimiento global. Se definen dos funciones principales:\n",
    "crear_matriz_confusion: Crea la matriz de confusión iterando sobre las etiquetas verdaderas y predicciones.\n",
    "calcular_metricas: Calcula las métricas de evaluación a partir de la matriz de confusión.\n",
    "\n",
    "Importante mencionar que es un problema binario, así que la matriz de confusión es de 2x2."
   ]
  },
  {
   "cell_type": "code",
   "execution_count": 9,
   "id": "a7150ad6-5294-444b-9a57-dc035d8e7483",
   "metadata": {},
   "outputs": [],
   "source": [
    "def create_confusion_matrix(y_true, y_pred):\n",
    "    # Crear una matriz de confusión de 2x2 inicializada en ceros\n",
    "    confusion_matrix = np.zeros((2, 2), dtype=int)\n",
    "\n",
    "    # Iterar sobre las etiquetas verdaderas y predicciones para actualizar la matriz\n",
    "    for i in range(len(y_true)):\n",
    "        confusion_matrix[y_true[i], y_pred[i]] += 1\n",
    "\n",
    "    return confusion_matrix\n",
    "\n",
    "def calculate_accuracy(confusion_matrix):\n",
    "    # TP: Verdaderos positivos (estudiantes admitidos que fueron correctamente clasificados como admitidos).\n",
    "    TP = confusion_matrix[1, 1]\n",
    "    # TN: Verdaderos negativos (estudiantes no admitidos que fueron correctamente clasificados como no admitidos).\n",
    "    TN = confusion_matrix[0, 0]\n",
    "    # FP: Falsos positivos (estudiantes no admitidos que fueron incorrectamente clasificados como admitidos).\n",
    "    FP = confusion_matrix[0, 1]\n",
    "    # FN: Falsos negativos (estudiantes admitidos que fueron incorrectamente clasificados como no admitidos).\n",
    "    FN = confusion_matrix[1, 0]\n",
    "\n",
    "    accuracy = (TP + TN) / (TP + TN + FP + FN)\n",
    "\n",
    "    return accuracy"
   ]
  },
  {
   "cell_type": "code",
   "execution_count": 10,
   "id": "9340f3fe-eee1-47b0-a8dc-c3cdd0a9265d",
   "metadata": {},
   "outputs": [
    {
     "name": "stdout",
     "output_type": "stream",
     "text": [
      "Confusion Matrix:\n",
      " [[6 0]\n",
      " [2 2]]\n",
      "Test accuracy =  0.8\n"
     ]
    }
   ],
   "source": [
    "# Confusion matrix from predicitions\n",
    "cm = create_confusion_matrix(y_test.values, prediction)\n",
    "print(\"Confusion Matrix:\\n\", cm)\n",
    "\n",
    "# accuracy score of the model\n",
    "print('Test accuracy = ', calculate_accuracy(cm))"
   ]
  },
  {
   "cell_type": "markdown",
   "id": "a466dba3-911e-406b-8ae9-e7be2f8cbf2a",
   "metadata": {},
   "source": [
    "## Ahora con Scikit-learn"
   ]
  },
  {
   "cell_type": "code",
   "execution_count": 11,
   "id": "966ecbab-fef2-4120-999a-67354e5efafd",
   "metadata": {},
   "outputs": [
    {
     "data": {
      "text/html": [
       "<style>#sk-container-id-1 {\n",
       "  /* Definition of color scheme common for light and dark mode */\n",
       "  --sklearn-color-text: black;\n",
       "  --sklearn-color-line: gray;\n",
       "  /* Definition of color scheme for unfitted estimators */\n",
       "  --sklearn-color-unfitted-level-0: #fff5e6;\n",
       "  --sklearn-color-unfitted-level-1: #f6e4d2;\n",
       "  --sklearn-color-unfitted-level-2: #ffe0b3;\n",
       "  --sklearn-color-unfitted-level-3: chocolate;\n",
       "  /* Definition of color scheme for fitted estimators */\n",
       "  --sklearn-color-fitted-level-0: #f0f8ff;\n",
       "  --sklearn-color-fitted-level-1: #d4ebff;\n",
       "  --sklearn-color-fitted-level-2: #b3dbfd;\n",
       "  --sklearn-color-fitted-level-3: cornflowerblue;\n",
       "\n",
       "  /* Specific color for light theme */\n",
       "  --sklearn-color-text-on-default-background: var(--sg-text-color, var(--theme-code-foreground, var(--jp-content-font-color1, black)));\n",
       "  --sklearn-color-background: var(--sg-background-color, var(--theme-background, var(--jp-layout-color0, white)));\n",
       "  --sklearn-color-border-box: var(--sg-text-color, var(--theme-code-foreground, var(--jp-content-font-color1, black)));\n",
       "  --sklearn-color-icon: #696969;\n",
       "\n",
       "  @media (prefers-color-scheme: dark) {\n",
       "    /* Redefinition of color scheme for dark theme */\n",
       "    --sklearn-color-text-on-default-background: var(--sg-text-color, var(--theme-code-foreground, var(--jp-content-font-color1, white)));\n",
       "    --sklearn-color-background: var(--sg-background-color, var(--theme-background, var(--jp-layout-color0, #111)));\n",
       "    --sklearn-color-border-box: var(--sg-text-color, var(--theme-code-foreground, var(--jp-content-font-color1, white)));\n",
       "    --sklearn-color-icon: #878787;\n",
       "  }\n",
       "}\n",
       "\n",
       "#sk-container-id-1 {\n",
       "  color: var(--sklearn-color-text);\n",
       "}\n",
       "\n",
       "#sk-container-id-1 pre {\n",
       "  padding: 0;\n",
       "}\n",
       "\n",
       "#sk-container-id-1 input.sk-hidden--visually {\n",
       "  border: 0;\n",
       "  clip: rect(1px 1px 1px 1px);\n",
       "  clip: rect(1px, 1px, 1px, 1px);\n",
       "  height: 1px;\n",
       "  margin: -1px;\n",
       "  overflow: hidden;\n",
       "  padding: 0;\n",
       "  position: absolute;\n",
       "  width: 1px;\n",
       "}\n",
       "\n",
       "#sk-container-id-1 div.sk-dashed-wrapped {\n",
       "  border: 1px dashed var(--sklearn-color-line);\n",
       "  margin: 0 0.4em 0.5em 0.4em;\n",
       "  box-sizing: border-box;\n",
       "  padding-bottom: 0.4em;\n",
       "  background-color: var(--sklearn-color-background);\n",
       "}\n",
       "\n",
       "#sk-container-id-1 div.sk-container {\n",
       "  /* jupyter's `normalize.less` sets `[hidden] { display: none; }`\n",
       "     but bootstrap.min.css set `[hidden] { display: none !important; }`\n",
       "     so we also need the `!important` here to be able to override the\n",
       "     default hidden behavior on the sphinx rendered scikit-learn.org.\n",
       "     See: https://github.com/scikit-learn/scikit-learn/issues/21755 */\n",
       "  display: inline-block !important;\n",
       "  position: relative;\n",
       "}\n",
       "\n",
       "#sk-container-id-1 div.sk-text-repr-fallback {\n",
       "  display: none;\n",
       "}\n",
       "\n",
       "div.sk-parallel-item,\n",
       "div.sk-serial,\n",
       "div.sk-item {\n",
       "  /* draw centered vertical line to link estimators */\n",
       "  background-image: linear-gradient(var(--sklearn-color-text-on-default-background), var(--sklearn-color-text-on-default-background));\n",
       "  background-size: 2px 100%;\n",
       "  background-repeat: no-repeat;\n",
       "  background-position: center center;\n",
       "}\n",
       "\n",
       "/* Parallel-specific style estimator block */\n",
       "\n",
       "#sk-container-id-1 div.sk-parallel-item::after {\n",
       "  content: \"\";\n",
       "  width: 100%;\n",
       "  border-bottom: 2px solid var(--sklearn-color-text-on-default-background);\n",
       "  flex-grow: 1;\n",
       "}\n",
       "\n",
       "#sk-container-id-1 div.sk-parallel {\n",
       "  display: flex;\n",
       "  align-items: stretch;\n",
       "  justify-content: center;\n",
       "  background-color: var(--sklearn-color-background);\n",
       "  position: relative;\n",
       "}\n",
       "\n",
       "#sk-container-id-1 div.sk-parallel-item {\n",
       "  display: flex;\n",
       "  flex-direction: column;\n",
       "}\n",
       "\n",
       "#sk-container-id-1 div.sk-parallel-item:first-child::after {\n",
       "  align-self: flex-end;\n",
       "  width: 50%;\n",
       "}\n",
       "\n",
       "#sk-container-id-1 div.sk-parallel-item:last-child::after {\n",
       "  align-self: flex-start;\n",
       "  width: 50%;\n",
       "}\n",
       "\n",
       "#sk-container-id-1 div.sk-parallel-item:only-child::after {\n",
       "  width: 0;\n",
       "}\n",
       "\n",
       "/* Serial-specific style estimator block */\n",
       "\n",
       "#sk-container-id-1 div.sk-serial {\n",
       "  display: flex;\n",
       "  flex-direction: column;\n",
       "  align-items: center;\n",
       "  background-color: var(--sklearn-color-background);\n",
       "  padding-right: 1em;\n",
       "  padding-left: 1em;\n",
       "}\n",
       "\n",
       "\n",
       "/* Toggleable style: style used for estimator/Pipeline/ColumnTransformer box that is\n",
       "clickable and can be expanded/collapsed.\n",
       "- Pipeline and ColumnTransformer use this feature and define the default style\n",
       "- Estimators will overwrite some part of the style using the `sk-estimator` class\n",
       "*/\n",
       "\n",
       "/* Pipeline and ColumnTransformer style (default) */\n",
       "\n",
       "#sk-container-id-1 div.sk-toggleable {\n",
       "  /* Default theme specific background. It is overwritten whether we have a\n",
       "  specific estimator or a Pipeline/ColumnTransformer */\n",
       "  background-color: var(--sklearn-color-background);\n",
       "}\n",
       "\n",
       "/* Toggleable label */\n",
       "#sk-container-id-1 label.sk-toggleable__label {\n",
       "  cursor: pointer;\n",
       "  display: block;\n",
       "  width: 100%;\n",
       "  margin-bottom: 0;\n",
       "  padding: 0.5em;\n",
       "  box-sizing: border-box;\n",
       "  text-align: center;\n",
       "}\n",
       "\n",
       "#sk-container-id-1 label.sk-toggleable__label-arrow:before {\n",
       "  /* Arrow on the left of the label */\n",
       "  content: \"▸\";\n",
       "  float: left;\n",
       "  margin-right: 0.25em;\n",
       "  color: var(--sklearn-color-icon);\n",
       "}\n",
       "\n",
       "#sk-container-id-1 label.sk-toggleable__label-arrow:hover:before {\n",
       "  color: var(--sklearn-color-text);\n",
       "}\n",
       "\n",
       "/* Toggleable content - dropdown */\n",
       "\n",
       "#sk-container-id-1 div.sk-toggleable__content {\n",
       "  max-height: 0;\n",
       "  max-width: 0;\n",
       "  overflow: hidden;\n",
       "  text-align: left;\n",
       "  /* unfitted */\n",
       "  background-color: var(--sklearn-color-unfitted-level-0);\n",
       "}\n",
       "\n",
       "#sk-container-id-1 div.sk-toggleable__content.fitted {\n",
       "  /* fitted */\n",
       "  background-color: var(--sklearn-color-fitted-level-0);\n",
       "}\n",
       "\n",
       "#sk-container-id-1 div.sk-toggleable__content pre {\n",
       "  margin: 0.2em;\n",
       "  border-radius: 0.25em;\n",
       "  color: var(--sklearn-color-text);\n",
       "  /* unfitted */\n",
       "  background-color: var(--sklearn-color-unfitted-level-0);\n",
       "}\n",
       "\n",
       "#sk-container-id-1 div.sk-toggleable__content.fitted pre {\n",
       "  /* unfitted */\n",
       "  background-color: var(--sklearn-color-fitted-level-0);\n",
       "}\n",
       "\n",
       "#sk-container-id-1 input.sk-toggleable__control:checked~div.sk-toggleable__content {\n",
       "  /* Expand drop-down */\n",
       "  max-height: 200px;\n",
       "  max-width: 100%;\n",
       "  overflow: auto;\n",
       "}\n",
       "\n",
       "#sk-container-id-1 input.sk-toggleable__control:checked~label.sk-toggleable__label-arrow:before {\n",
       "  content: \"▾\";\n",
       "}\n",
       "\n",
       "/* Pipeline/ColumnTransformer-specific style */\n",
       "\n",
       "#sk-container-id-1 div.sk-label input.sk-toggleable__control:checked~label.sk-toggleable__label {\n",
       "  color: var(--sklearn-color-text);\n",
       "  background-color: var(--sklearn-color-unfitted-level-2);\n",
       "}\n",
       "\n",
       "#sk-container-id-1 div.sk-label.fitted input.sk-toggleable__control:checked~label.sk-toggleable__label {\n",
       "  background-color: var(--sklearn-color-fitted-level-2);\n",
       "}\n",
       "\n",
       "/* Estimator-specific style */\n",
       "\n",
       "/* Colorize estimator box */\n",
       "#sk-container-id-1 div.sk-estimator input.sk-toggleable__control:checked~label.sk-toggleable__label {\n",
       "  /* unfitted */\n",
       "  background-color: var(--sklearn-color-unfitted-level-2);\n",
       "}\n",
       "\n",
       "#sk-container-id-1 div.sk-estimator.fitted input.sk-toggleable__control:checked~label.sk-toggleable__label {\n",
       "  /* fitted */\n",
       "  background-color: var(--sklearn-color-fitted-level-2);\n",
       "}\n",
       "\n",
       "#sk-container-id-1 div.sk-label label.sk-toggleable__label,\n",
       "#sk-container-id-1 div.sk-label label {\n",
       "  /* The background is the default theme color */\n",
       "  color: var(--sklearn-color-text-on-default-background);\n",
       "}\n",
       "\n",
       "/* On hover, darken the color of the background */\n",
       "#sk-container-id-1 div.sk-label:hover label.sk-toggleable__label {\n",
       "  color: var(--sklearn-color-text);\n",
       "  background-color: var(--sklearn-color-unfitted-level-2);\n",
       "}\n",
       "\n",
       "/* Label box, darken color on hover, fitted */\n",
       "#sk-container-id-1 div.sk-label.fitted:hover label.sk-toggleable__label.fitted {\n",
       "  color: var(--sklearn-color-text);\n",
       "  background-color: var(--sklearn-color-fitted-level-2);\n",
       "}\n",
       "\n",
       "/* Estimator label */\n",
       "\n",
       "#sk-container-id-1 div.sk-label label {\n",
       "  font-family: monospace;\n",
       "  font-weight: bold;\n",
       "  display: inline-block;\n",
       "  line-height: 1.2em;\n",
       "}\n",
       "\n",
       "#sk-container-id-1 div.sk-label-container {\n",
       "  text-align: center;\n",
       "}\n",
       "\n",
       "/* Estimator-specific */\n",
       "#sk-container-id-1 div.sk-estimator {\n",
       "  font-family: monospace;\n",
       "  border: 1px dotted var(--sklearn-color-border-box);\n",
       "  border-radius: 0.25em;\n",
       "  box-sizing: border-box;\n",
       "  margin-bottom: 0.5em;\n",
       "  /* unfitted */\n",
       "  background-color: var(--sklearn-color-unfitted-level-0);\n",
       "}\n",
       "\n",
       "#sk-container-id-1 div.sk-estimator.fitted {\n",
       "  /* fitted */\n",
       "  background-color: var(--sklearn-color-fitted-level-0);\n",
       "}\n",
       "\n",
       "/* on hover */\n",
       "#sk-container-id-1 div.sk-estimator:hover {\n",
       "  /* unfitted */\n",
       "  background-color: var(--sklearn-color-unfitted-level-2);\n",
       "}\n",
       "\n",
       "#sk-container-id-1 div.sk-estimator.fitted:hover {\n",
       "  /* fitted */\n",
       "  background-color: var(--sklearn-color-fitted-level-2);\n",
       "}\n",
       "\n",
       "/* Specification for estimator info (e.g. \"i\" and \"?\") */\n",
       "\n",
       "/* Common style for \"i\" and \"?\" */\n",
       "\n",
       ".sk-estimator-doc-link,\n",
       "a:link.sk-estimator-doc-link,\n",
       "a:visited.sk-estimator-doc-link {\n",
       "  float: right;\n",
       "  font-size: smaller;\n",
       "  line-height: 1em;\n",
       "  font-family: monospace;\n",
       "  background-color: var(--sklearn-color-background);\n",
       "  border-radius: 1em;\n",
       "  height: 1em;\n",
       "  width: 1em;\n",
       "  text-decoration: none !important;\n",
       "  margin-left: 1ex;\n",
       "  /* unfitted */\n",
       "  border: var(--sklearn-color-unfitted-level-1) 1pt solid;\n",
       "  color: var(--sklearn-color-unfitted-level-1);\n",
       "}\n",
       "\n",
       ".sk-estimator-doc-link.fitted,\n",
       "a:link.sk-estimator-doc-link.fitted,\n",
       "a:visited.sk-estimator-doc-link.fitted {\n",
       "  /* fitted */\n",
       "  border: var(--sklearn-color-fitted-level-1) 1pt solid;\n",
       "  color: var(--sklearn-color-fitted-level-1);\n",
       "}\n",
       "\n",
       "/* On hover */\n",
       "div.sk-estimator:hover .sk-estimator-doc-link:hover,\n",
       ".sk-estimator-doc-link:hover,\n",
       "div.sk-label-container:hover .sk-estimator-doc-link:hover,\n",
       ".sk-estimator-doc-link:hover {\n",
       "  /* unfitted */\n",
       "  background-color: var(--sklearn-color-unfitted-level-3);\n",
       "  color: var(--sklearn-color-background);\n",
       "  text-decoration: none;\n",
       "}\n",
       "\n",
       "div.sk-estimator.fitted:hover .sk-estimator-doc-link.fitted:hover,\n",
       ".sk-estimator-doc-link.fitted:hover,\n",
       "div.sk-label-container:hover .sk-estimator-doc-link.fitted:hover,\n",
       ".sk-estimator-doc-link.fitted:hover {\n",
       "  /* fitted */\n",
       "  background-color: var(--sklearn-color-fitted-level-3);\n",
       "  color: var(--sklearn-color-background);\n",
       "  text-decoration: none;\n",
       "}\n",
       "\n",
       "/* Span, style for the box shown on hovering the info icon */\n",
       ".sk-estimator-doc-link span {\n",
       "  display: none;\n",
       "  z-index: 9999;\n",
       "  position: relative;\n",
       "  font-weight: normal;\n",
       "  right: .2ex;\n",
       "  padding: .5ex;\n",
       "  margin: .5ex;\n",
       "  width: min-content;\n",
       "  min-width: 20ex;\n",
       "  max-width: 50ex;\n",
       "  color: var(--sklearn-color-text);\n",
       "  box-shadow: 2pt 2pt 4pt #999;\n",
       "  /* unfitted */\n",
       "  background: var(--sklearn-color-unfitted-level-0);\n",
       "  border: .5pt solid var(--sklearn-color-unfitted-level-3);\n",
       "}\n",
       "\n",
       ".sk-estimator-doc-link.fitted span {\n",
       "  /* fitted */\n",
       "  background: var(--sklearn-color-fitted-level-0);\n",
       "  border: var(--sklearn-color-fitted-level-3);\n",
       "}\n",
       "\n",
       ".sk-estimator-doc-link:hover span {\n",
       "  display: block;\n",
       "}\n",
       "\n",
       "/* \"?\"-specific style due to the `<a>` HTML tag */\n",
       "\n",
       "#sk-container-id-1 a.estimator_doc_link {\n",
       "  float: right;\n",
       "  font-size: 1rem;\n",
       "  line-height: 1em;\n",
       "  font-family: monospace;\n",
       "  background-color: var(--sklearn-color-background);\n",
       "  border-radius: 1rem;\n",
       "  height: 1rem;\n",
       "  width: 1rem;\n",
       "  text-decoration: none;\n",
       "  /* unfitted */\n",
       "  color: var(--sklearn-color-unfitted-level-1);\n",
       "  border: var(--sklearn-color-unfitted-level-1) 1pt solid;\n",
       "}\n",
       "\n",
       "#sk-container-id-1 a.estimator_doc_link.fitted {\n",
       "  /* fitted */\n",
       "  border: var(--sklearn-color-fitted-level-1) 1pt solid;\n",
       "  color: var(--sklearn-color-fitted-level-1);\n",
       "}\n",
       "\n",
       "/* On hover */\n",
       "#sk-container-id-1 a.estimator_doc_link:hover {\n",
       "  /* unfitted */\n",
       "  background-color: var(--sklearn-color-unfitted-level-3);\n",
       "  color: var(--sklearn-color-background);\n",
       "  text-decoration: none;\n",
       "}\n",
       "\n",
       "#sk-container-id-1 a.estimator_doc_link.fitted:hover {\n",
       "  /* fitted */\n",
       "  background-color: var(--sklearn-color-fitted-level-3);\n",
       "}\n",
       "</style><div id=\"sk-container-id-1\" class=\"sk-top-container\"><div class=\"sk-text-repr-fallback\"><pre>LogisticRegression()</pre><b>In a Jupyter environment, please rerun this cell to show the HTML representation or trust the notebook. <br />On GitHub, the HTML representation is unable to render, please try loading this page with nbviewer.org.</b></div><div class=\"sk-container\" hidden><div class=\"sk-item\"><div class=\"sk-estimator fitted sk-toggleable\"><input class=\"sk-toggleable__control sk-hidden--visually\" id=\"sk-estimator-id-1\" type=\"checkbox\" checked><label for=\"sk-estimator-id-1\" class=\"sk-toggleable__label fitted sk-toggleable__label-arrow fitted\">&nbsp;&nbsp;LogisticRegression<a class=\"sk-estimator-doc-link fitted\" rel=\"noreferrer\" target=\"_blank\" href=\"https://scikit-learn.org/1.5/modules/generated/sklearn.linear_model.LogisticRegression.html\">?<span>Documentation for LogisticRegression</span></a><span class=\"sk-estimator-doc-link fitted\">i<span>Fitted</span></span></label><div class=\"sk-toggleable__content fitted\"><pre>LogisticRegression()</pre></div> </div></div></div></div>"
      ],
      "text/plain": [
       "LogisticRegression()"
      ]
     },
     "execution_count": 11,
     "metadata": {},
     "output_type": "execute_result"
    }
   ],
   "source": [
    "# import the class\n",
    "from sklearn.linear_model import LogisticRegression\n",
    "\n",
    "# instantiate the model (using the default parameters)\n",
    "logreg = LogisticRegression()\n",
    "\n",
    "# fit the model with data\n",
    "logreg.fit(X_train, y_train.values.ravel())"
   ]
  },
  {
   "cell_type": "code",
   "execution_count": 12,
   "id": "2dd71dd4-bd71-43ac-9d47-638d92019d42",
   "metadata": {},
   "outputs": [
    {
     "name": "stdout",
     "output_type": "stream",
     "text": [
      "Actual values [0, 0, 0, 0, 0, 1, 1, 0, 1, 1]\n",
      "Predictions : [0 0 0 0 0 1 1 0 1 1]\n"
     ]
    }
   ],
   "source": [
    "y_pred = logreg.predict(X_test)\n",
    "\n",
    "# comparing original and predicted values of y\n",
    "print('Actual values', list(y_test.values))\n",
    "print('Predictions :', y_pred)"
   ]
  },
  {
   "cell_type": "code",
   "execution_count": 13,
   "id": "fa52d559-4846-4ee5-a983-4679901f063e",
   "metadata": {},
   "outputs": [
    {
     "name": "stdout",
     "output_type": "stream",
     "text": [
      "Confusion Matrix : \n",
      " [[6 0]\n",
      " [0 4]]\n",
      "Test accuracy =  1.0\n"
     ]
    }
   ],
   "source": [
    "from sklearn.metrics import (confusion_matrix, accuracy_score)\n",
    "  \n",
    "# confusion matrix\n",
    "cm = confusion_matrix(y_test, y_pred) \n",
    "print (\"Confusion Matrix : \\n\", cm) \n",
    "  \n",
    "# accuracy score of the model\n",
    "print('Test accuracy = ', accuracy_score(y_test, y_pred))"
   ]
  },
  {
   "cell_type": "code",
   "execution_count": null,
   "id": "87bf8de9-d437-4436-8837-180da9840428",
   "metadata": {},
   "outputs": [],
   "source": []
  }
 ],
 "metadata": {
  "kernelspec": {
   "display_name": "Python 3 (ipykernel)",
   "language": "python",
   "name": "python3"
  },
  "language_info": {
   "codemirror_mode": {
    "name": "ipython",
    "version": 3
   },
   "file_extension": ".py",
   "mimetype": "text/x-python",
   "name": "python",
   "nbconvert_exporter": "python",
   "pygments_lexer": "ipython3",
   "version": "3.12.4"
  }
 },
 "nbformat": 4,
 "nbformat_minor": 5
}

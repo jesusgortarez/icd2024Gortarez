{
 "cells": [
  {
   "cell_type": "code",
   "execution_count": 1,
   "metadata": {},
   "outputs": [
    {
     "name": "stdout",
     "output_type": "stream",
     "text": [
      "['03.00-Introduction-to-Pandas.ipynb', '03.01-Introducing-Pandas-Objects.ipynb', '03.02-Data-Indexing-and-Selection.ipynb', '03.03-Operations-in-Pandas.ipynb', '03.04-Missing-Values.ipynb', '03.05-Hierarchical-Indexing.ipynb', '03.06-Concat-And-Append.ipynb', '03.07-Merge-and-Join.ipynb', '03.08-Aggregation-and-Grouping.ipynb', '03.09-Pivot-Tables.ipynb', '03.10-Working-With-Strings.ipynb', '03.11-Working-with-Time-Series.ipynb', '03.12-Performance-Eval-and-Query.ipynb', '03.13-Further-Resources.ipynb']\n"
     ]
    }
   ],
   "source": [
    "import os\n",
    "from nbmanips import Notebook\n",
    "def obtener_nombres_archivos():\n",
    "  nombres_archivos = []\n",
    "  ruta_notebook = os.path.join(\"notebooks_v1\")\n",
    "  for nombre_archivo in os.listdir(ruta_notebook):\n",
    "    if nombre_archivo.startswith(\"03\") and nombre_archivo.endswith(\".ipynb\"):\n",
    "      nombres_archivos.append(nombre_archivo)\n",
    "  return nombres_archivos\n",
    "# Obtener la lista de nombres de archivos en el directorio actual\n",
    "nombres_archivos = obtener_nombres_archivos()\n",
    "\n",
    "# Imprimir la lista de nombres de archivos\n",
    "print(nombres_archivos)"
   ]
  },
  {
   "cell_type": "code",
   "execution_count": 1,
   "metadata": {},
   "outputs": [
    {
     "name": "stdout",
     "output_type": "stream",
     "text": [
      "['04.00-Introduction-To-Matplotlib.ipynb', '04.01-Simple-Line-Plots.ipynb', '04.02-Simple-Scatter-Plots.ipynb', '04.03-Errorbars.ipynb', '04.04-Density-and-Contour-Plots.ipynb', '04.05-Histograms-and-Binnings.ipynb', '04.06-Customizing-Legends.ipynb', '04.07-Customizing-Colorbars.ipynb', '04.08-Multiple-Subplots.ipynb', '04.09-Text-and-Annotation.ipynb', '04.10-Customizing-Ticks.ipynb', '04.11-Settings-and-Stylesheets.ipynb', '04.12-Three-Dimensional-Plotting.ipynb', '04.13-Geographic-Data-With-Basemap.ipynb', '04.14-Visualization-With-Seaborn.ipynb', '04.15-Further-Resources.ipynb']\n"
     ]
    }
   ],
   "source": [
    "import os\n",
    "from nbmanips import Notebook\n",
    "def obtener_nombres_archivos():\n",
    "  nombres_archivos = []\n",
    "  for nombre_archivo in os.listdir(\".\"):\n",
    "    if os.path.isfile(nombre_archivo) and nombre_archivo.startswith(\"04\") and nombre_archivo.endswith(\".ipynb\"):\n",
    "      nombres_archivos.append(nombre_archivo)\n",
    "  return nombres_archivos\n",
    "\n",
    "# Obtener la lista de nombres de archivos en el directorio actual\n",
    "nombres_archivos = obtener_nombres_archivos()\n",
    "\n",
    "# Imprimir la lista de nombres de archivos\n",
    "print(nombres_archivos)"
   ]
  },
  {
   "cell_type": "code",
   "execution_count": 2,
   "metadata": {},
   "outputs": [
    {
     "name": "stderr",
     "output_type": "stream",
     "text": [
      "c:\\Users\\Jesus\\.conda\\envs\\DataScience\\Lib\\site-packages\\nbformat\\__init__.py:129: MissingIDFieldWarning: Code cell is missing an id field, this will become a hard error in future nbformat versions. You may want to use `normalize()` on your notebooks before validations (available since nbformat 5.1.4). Previous versions of nbformat are fixing this issue transparently, and will stop doing so in the future.\n",
      "  validate(nb)\n"
     ]
    }
   ],
   "source": [
    "from nbmanips import Notebook\n",
    "\n",
    "\n",
    "# Create an empty notebook\n",
    "combined_notebook = Notebook()\n",
    "\n",
    "# Iterate through the list and add cells to the combined notebook\n",
    "for nombre in nombres_archivos:\n",
    "  nb = Notebook.read_ipynb(nombre)\n",
    "  combined_notebook += nb  # Use += to combine notebooks\n",
    "\n",
    "combined_notebook.select('markdown_cells').delete()\n",
    "\n",
    "# Save the combined notebook\n",
    "combined_notebook.to_ipynb(\"Bloque 44.ipynb\")\n"
   ]
  }
 ],
 "metadata": {
  "kernelspec": {
   "display_name": "DataScience",
   "language": "python",
   "name": "python3"
  },
  "language_info": {
   "codemirror_mode": {
    "name": "ipython",
    "version": 3
   },
   "file_extension": ".py",
   "mimetype": "text/x-python",
   "name": "python",
   "nbconvert_exporter": "python",
   "pygments_lexer": "ipython3",
   "version": "3.12.4"
  }
 },
 "nbformat": 4,
 "nbformat_minor": 2
}

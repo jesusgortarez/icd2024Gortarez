{
 "cells": [
  {
   "cell_type": "markdown",
   "id": "645199e6-0c32-4fe7-b4ac-f5fcacc21b4a",
   "metadata": {},
   "source": [
    "# Dataset-Mental-Disorders"
   ]
  },
  {
   "cell_type": "markdown",
   "id": "eddbc9f8-411f-4c33-a35e-fbc516affadd",
   "metadata": {},
   "source": [
    "Acerca del conjunto de datos: Una colección de 120 pacientes de psicología con 17 síntomas esenciales para diagnosticar trastorno bipolar maniaco, trastorno bipolar depresivo, trastorno depresivo mayor y personas normales. \n",
    "\n",
    "El conjunto de datos contiene los 17 síntomas esenciales que los psiquiatras utilizan para diagnosticar los trastornos descritos. Los síntomas conductuales incluyen los niveles de tristeza, agotamiento, euforia, trastornos del sueño, cambios de humor, pensamientos suicidas, anorexia, ansiedad, intento de explicación, colapso nervioso, ignorar y seguir adelante, admitir errores, sobrepensar, respuesta agresiva, optimismo, actividad sexual y concentración en un formato de valores separados por comas (CSV). \n",
    "\n",
    "La categoría \"Normal\" se refiere a las personas que utilizan el tiempo de terapia para asesoramiento especializado, desarrollo personal y enriquecimiento de habilidades para la vida. Aunque estas personas también pueden tener problemas mentales menores, se diferencian de aquellos que padecen trastorno depresivo mayor y trastorno bipolar."
   ]
  },
  {
   "cell_type": "markdown",
   "id": "dc873a0e-d972-4a5d-8fd0-c9894379add0",
   "metadata": {},
   "source": [
    "Se buca analizar los datos y su relacion entre ellos de manera general."
   ]
  },
  {
   "cell_type": "code",
   "execution_count": 9,
   "id": "c184ae04-ca04-434d-afaa-5e6f3636afbc",
   "metadata": {
    "tags": []
   },
   "outputs": [
    {
     "data": {
      "text/plain": [
       "'1.2.3'"
      ]
     },
     "execution_count": 9,
     "metadata": {},
     "output_type": "execute_result"
    }
   ],
   "source": [
    "import pandas\n",
    "pandas.__version__"
   ]
  },
  {
   "cell_type": "markdown",
   "id": "9a848512-b5f8-4880-ab1e-f61f5149cfc6",
   "metadata": {},
   "source": [
    "## Visión general de los datos"
   ]
  },
  {
   "cell_type": "code",
   "execution_count": 7,
   "id": "1a03177c-bf25-4e42-a00d-5fc287ac2a0a",
   "metadata": {},
   "outputs": [
    {
     "data": {
      "text/html": [
       "<div>\n",
       "<style scoped>\n",
       "    .dataframe tbody tr th:only-of-type {\n",
       "        vertical-align: middle;\n",
       "    }\n",
       "\n",
       "    .dataframe tbody tr th {\n",
       "        vertical-align: top;\n",
       "    }\n",
       "\n",
       "    .dataframe thead th {\n",
       "        text-align: right;\n",
       "    }\n",
       "</style>\n",
       "<table border=\"1\" class=\"dataframe\">\n",
       "  <thead>\n",
       "    <tr style=\"text-align: right;\">\n",
       "      <th></th>\n",
       "      <th>Patient Number</th>\n",
       "      <th>Sadness</th>\n",
       "      <th>Euphoric</th>\n",
       "      <th>Exhausted</th>\n",
       "      <th>Sleep dissorder</th>\n",
       "      <th>Mood Swing</th>\n",
       "      <th>Suicidal thoughts</th>\n",
       "      <th>Anorxia</th>\n",
       "      <th>Authority Respect</th>\n",
       "      <th>Try-Explanation</th>\n",
       "      <th>Aggressive Response</th>\n",
       "      <th>Ignore &amp; Move-On</th>\n",
       "      <th>Nervous Break-down</th>\n",
       "      <th>Admit Mistakes</th>\n",
       "      <th>Overthinking</th>\n",
       "      <th>Sexual Activity</th>\n",
       "      <th>Concentration</th>\n",
       "      <th>Optimisim</th>\n",
       "      <th>Expert Diagnose</th>\n",
       "    </tr>\n",
       "  </thead>\n",
       "  <tbody>\n",
       "    <tr>\n",
       "      <th>0</th>\n",
       "      <td>Patiant-01</td>\n",
       "      <td>Usually</td>\n",
       "      <td>Seldom</td>\n",
       "      <td>Sometimes</td>\n",
       "      <td>Sometimes</td>\n",
       "      <td>YES</td>\n",
       "      <td>YES</td>\n",
       "      <td>NO</td>\n",
       "      <td>NO</td>\n",
       "      <td>YES</td>\n",
       "      <td>NO</td>\n",
       "      <td>NO</td>\n",
       "      <td>YES</td>\n",
       "      <td>YES</td>\n",
       "      <td>YES</td>\n",
       "      <td>3 From 10</td>\n",
       "      <td>3 From 10</td>\n",
       "      <td>4 From 10</td>\n",
       "      <td>Bipolar Type-2</td>\n",
       "    </tr>\n",
       "    <tr>\n",
       "      <th>1</th>\n",
       "      <td>Patiant-02</td>\n",
       "      <td>Usually</td>\n",
       "      <td>Seldom</td>\n",
       "      <td>Usually</td>\n",
       "      <td>Sometimes</td>\n",
       "      <td>NO</td>\n",
       "      <td>YES</td>\n",
       "      <td>NO</td>\n",
       "      <td>NO</td>\n",
       "      <td>NO</td>\n",
       "      <td>NO</td>\n",
       "      <td>NO</td>\n",
       "      <td>NO</td>\n",
       "      <td>NO</td>\n",
       "      <td>NO</td>\n",
       "      <td>4 From 10</td>\n",
       "      <td>2 From 10</td>\n",
       "      <td>5 From 10</td>\n",
       "      <td>Depression</td>\n",
       "    </tr>\n",
       "    <tr>\n",
       "      <th>2</th>\n",
       "      <td>Patiant-03</td>\n",
       "      <td>Sometimes</td>\n",
       "      <td>Most-Often</td>\n",
       "      <td>Sometimes</td>\n",
       "      <td>Sometimes</td>\n",
       "      <td>YES</td>\n",
       "      <td>NO</td>\n",
       "      <td>NO</td>\n",
       "      <td>NO</td>\n",
       "      <td>YES</td>\n",
       "      <td>YES</td>\n",
       "      <td>NO</td>\n",
       "      <td>YES</td>\n",
       "      <td>YES</td>\n",
       "      <td>NO</td>\n",
       "      <td>6 From 10</td>\n",
       "      <td>5 From 10</td>\n",
       "      <td>7 From 10</td>\n",
       "      <td>Bipolar Type-1</td>\n",
       "    </tr>\n",
       "    <tr>\n",
       "      <th>3</th>\n",
       "      <td>Patiant-04</td>\n",
       "      <td>Usually</td>\n",
       "      <td>Seldom</td>\n",
       "      <td>Usually</td>\n",
       "      <td>Most-Often</td>\n",
       "      <td>YES</td>\n",
       "      <td>YES</td>\n",
       "      <td>YES</td>\n",
       "      <td>NO</td>\n",
       "      <td>YES</td>\n",
       "      <td>NO</td>\n",
       "      <td>NO</td>\n",
       "      <td>NO</td>\n",
       "      <td>NO</td>\n",
       "      <td>NO</td>\n",
       "      <td>3 From 10</td>\n",
       "      <td>2 From 10</td>\n",
       "      <td>2 From 10</td>\n",
       "      <td>Bipolar Type-2</td>\n",
       "    </tr>\n",
       "    <tr>\n",
       "      <th>4</th>\n",
       "      <td>Patiant-05</td>\n",
       "      <td>Usually</td>\n",
       "      <td>Usually</td>\n",
       "      <td>Sometimes</td>\n",
       "      <td>Sometimes</td>\n",
       "      <td>NO</td>\n",
       "      <td>NO</td>\n",
       "      <td>NO</td>\n",
       "      <td>NO</td>\n",
       "      <td>NO</td>\n",
       "      <td>NO</td>\n",
       "      <td>NO</td>\n",
       "      <td>YES</td>\n",
       "      <td>YES</td>\n",
       "      <td>YES</td>\n",
       "      <td>5 From 10</td>\n",
       "      <td>5 From 10</td>\n",
       "      <td>6 From 10</td>\n",
       "      <td>Normal</td>\n",
       "    </tr>\n",
       "  </tbody>\n",
       "</table>\n",
       "</div>"
      ],
      "text/plain": [
       "  Patient Number    Sadness    Euphoric  Exhausted Sleep dissorder Mood Swing  \\\n",
       "0     Patiant-01    Usually      Seldom  Sometimes       Sometimes        YES   \n",
       "1     Patiant-02    Usually      Seldom    Usually       Sometimes         NO   \n",
       "2     Patiant-03  Sometimes  Most-Often  Sometimes       Sometimes        YES   \n",
       "3     Patiant-04    Usually      Seldom    Usually      Most-Often        YES   \n",
       "4     Patiant-05    Usually     Usually  Sometimes       Sometimes         NO   \n",
       "\n",
       "  Suicidal thoughts Anorxia Authority Respect Try-Explanation  \\\n",
       "0              YES       NO                NO             YES   \n",
       "1               YES      NO                NO              NO   \n",
       "2                NO      NO                NO             YES   \n",
       "3               YES     YES                NO             YES   \n",
       "4                NO      NO                NO              NO   \n",
       "\n",
       "  Aggressive Response Ignore & Move-On Nervous Break-down Admit Mistakes  \\\n",
       "0                  NO               NO                YES            YES   \n",
       "1                  NO               NO                 NO             NO   \n",
       "2                 YES               NO                YES            YES   \n",
       "3                  NO               NO                 NO             NO   \n",
       "4                  NO               NO                YES            YES   \n",
       "\n",
       "  Overthinking Sexual Activity Concentration  Optimisim Expert Diagnose  \n",
       "0          YES       3 From 10     3 From 10  4 From 10  Bipolar Type-2  \n",
       "1           NO       4 From 10     2 From 10  5 From 10      Depression  \n",
       "2           NO       6 From 10     5 From 10  7 From 10  Bipolar Type-1  \n",
       "3           NO       3 From 10     2 From 10  2 From 10  Bipolar Type-2  \n",
       "4          YES       5 From 10     5 From 10  6 From 10          Normal  "
      ]
     },
     "execution_count": 7,
     "metadata": {},
     "output_type": "execute_result"
    }
   ],
   "source": [
    "import pandas as pd\n",
    "\n",
    "df = pd.read_csv(\"Practica 1 Dataset-Mental-Disorders.csv\")\n",
    "\n",
    "df.head()"
   ]
  },
  {
   "cell_type": "markdown",
   "id": "a7ab253d-0b5c-44d4-8924-1f6f5b6a2949",
   "metadata": {},
   "source": [
    "---"
   ]
  },
  {
   "cell_type": "markdown",
   "id": "70ddf3ea-7c8d-4a07-8bba-a5e30037e5bb",
   "metadata": {},
   "source": [
    "***Imprime un resumen del DataFrame, mostrando información sobre las columnas, el tipo de datos, y cuántos valores no nulos tiene cada una. Necesario para asegurarse de que la base de datos no caresca de algun dato.***"
   ]
  },
  {
   "cell_type": "code",
   "execution_count": 13,
   "id": "04695f2f-9d99-4011-a1b5-0a6fbfd7c40e",
   "metadata": {},
   "outputs": [
    {
     "name": "stdout",
     "output_type": "stream",
     "text": [
      "<class 'pandas.core.frame.DataFrame'>\n",
      "RangeIndex: 120 entries, 0 to 119\n",
      "Data columns (total 19 columns):\n",
      " #   Column               Non-Null Count  Dtype \n",
      "---  ------               --------------  ----- \n",
      " 0   Patient Number       120 non-null    object\n",
      " 1   Sadness              120 non-null    object\n",
      " 2   Euphoric             120 non-null    object\n",
      " 3   Exhausted            120 non-null    object\n",
      " 4   Sleep dissorder      120 non-null    object\n",
      " 5   Mood Swing           120 non-null    object\n",
      " 6   Suicidal thoughts    120 non-null    object\n",
      " 7   Anorxia              120 non-null    object\n",
      " 8   Authority Respect    120 non-null    object\n",
      " 9   Try-Explanation      120 non-null    object\n",
      " 10  Aggressive Response  120 non-null    object\n",
      " 11  Ignore & Move-On     120 non-null    object\n",
      " 12  Nervous Break-down   120 non-null    object\n",
      " 13  Admit Mistakes       120 non-null    object\n",
      " 14  Overthinking         120 non-null    object\n",
      " 15  Sexual Activity      120 non-null    object\n",
      " 16  Concentration        120 non-null    object\n",
      " 17  Optimisim            120 non-null    object\n",
      " 18  Expert Diagnose      120 non-null    object\n",
      "dtypes: object(19)\n",
      "memory usage: 17.9+ KB\n",
      "None\n"
     ]
    }
   ],
   "source": [
    "print(df.info())"
   ]
  },
  {
   "cell_type": "markdown",
   "id": "d407bc07-bdcf-4f1c-afed-b1b1e3603aab",
   "metadata": {},
   "source": [
    "---"
   ]
  },
  {
   "cell_type": "markdown",
   "id": "1e4265e2-0f0c-4025-a104-a23dc957c471",
   "metadata": {},
   "source": [
    "***Imprime estadísticas descriptivas para las columnas numéricas del DataFrame, como media, desviación estándar, y cuartiles.***"
   ]
  },
  {
   "cell_type": "code",
   "execution_count": 15,
   "id": "c84ae4d5-a762-4707-93e2-0faf3ec76510",
   "metadata": {},
   "outputs": [
    {
     "name": "stdout",
     "output_type": "stream",
     "text": [
      "       Patient Number  Sadness Euphoric  Exhausted Sleep dissorder Mood Swing  \\\n",
      "count             120      120      120        120             120        120   \n",
      "unique            120        4        4          4               4          2   \n",
      "top        Patiant-09  Usually   Seldom  Sometimes       Sometimes         NO   \n",
      "freq                1       42       46         38              44         63   \n",
      "\n",
      "       Suicidal thoughts Anorxia Authority Respect Try-Explanation  \\\n",
      "count                120     120               120             120   \n",
      "unique                 3       2                 2               2   \n",
      "top                   NO      NO                NO              NO   \n",
      "freq                  63      74                73              63   \n",
      "\n",
      "       Aggressive Response Ignore & Move-On Nervous Break-down Admit Mistakes  \\\n",
      "count                  120              120                120            120   \n",
      "unique                   2                2                  2              2   \n",
      "top                     NO               NO                YES             NO   \n",
      "freq                    62               70                 62             61   \n",
      "\n",
      "       Overthinking Sexual Activity Concentration  Optimisim Expert Diagnose  \n",
      "count           120             120           120        120             120  \n",
      "unique            2               9             8          9               4  \n",
      "top             YES       5 From 10     4 From 10  6 From 10  Bipolar Type-2  \n",
      "freq             65              22            33         21              31  \n"
     ]
    }
   ],
   "source": [
    "print(df.describe())"
   ]
  },
  {
   "cell_type": "markdown",
   "id": "2d2bda97-864b-4c09-b916-18578d730692",
   "metadata": {},
   "source": [
    "---"
   ]
  },
  {
   "cell_type": "markdown",
   "id": "5c62c3bd-b51e-482c-b601-eb685a1bfac5",
   "metadata": {},
   "source": [
    "***Muestra la cantidad de valores faltantes (NaN) en cada columna del DataFrame.***"
   ]
  },
  {
   "cell_type": "code",
   "execution_count": 17,
   "id": "4769c24a-26c7-4e21-b1fe-9779a3cc106d",
   "metadata": {},
   "outputs": [
    {
     "name": "stdout",
     "output_type": "stream",
     "text": [
      "Patient Number         0\n",
      "Sadness                0\n",
      "Euphoric               0\n",
      "Exhausted              0\n",
      "Sleep dissorder        0\n",
      "Mood Swing             0\n",
      "Suicidal thoughts      0\n",
      "Anorxia                0\n",
      "Authority Respect      0\n",
      "Try-Explanation        0\n",
      "Aggressive Response    0\n",
      "Ignore & Move-On       0\n",
      "Nervous Break-down     0\n",
      "Admit Mistakes         0\n",
      "Overthinking           0\n",
      "Sexual Activity        0\n",
      "Concentration          0\n",
      "Optimisim              0\n",
      "Expert Diagnose        0\n",
      "dtype: int64\n"
     ]
    }
   ],
   "source": [
    "print(df.isna().sum())"
   ]
  },
  {
   "cell_type": "markdown",
   "id": "e5c7e2c1-834e-41ed-80dc-3c9c96c5a76c",
   "metadata": {},
   "source": [
    "---"
   ]
  },
  {
   "cell_type": "markdown",
   "id": "84cbca38-87fe-4383-912e-bb274ebc1aa6",
   "metadata": {},
   "source": [
    "***Imprime las dimensiones del DataFrame en forma de una tupla (número de filas, número de columnas)***"
   ]
  },
  {
   "cell_type": "code",
   "execution_count": 18,
   "id": "6ed955c2-e8a0-4303-bcc8-361b63182bd3",
   "metadata": {},
   "outputs": [
    {
     "name": "stdout",
     "output_type": "stream",
     "text": [
      "(120, 19)\n"
     ]
    }
   ],
   "source": [
    "print(df.shape)"
   ]
  },
  {
   "cell_type": "markdown",
   "id": "7c11eb2e-150e-4a5c-8ec5-e60a1b2dc345",
   "metadata": {
    "tags": []
   },
   "source": [
    "---"
   ]
  },
  {
   "cell_type": "markdown",
   "id": "4d4a9831-cb85-4244-a3d1-6c2fed41a547",
   "metadata": {},
   "source": [
    "***Una práctica que podría ser útil en el futuro y por eso la menciono aquí es calcular el porcentaje de valores nulos en un conjunto de datos.***"
   ]
  },
  {
   "cell_type": "code",
   "execution_count": 19,
   "id": "c4810911-2082-4800-9393-567585c2e66e",
   "metadata": {},
   "outputs": [
    {
     "name": "stdout",
     "output_type": "stream",
     "text": [
      "Patient Number         0.0\n",
      "Sadness                0.0\n",
      "Euphoric               0.0\n",
      "Exhausted              0.0\n",
      "Sleep dissorder        0.0\n",
      "Mood Swing             0.0\n",
      "Suicidal thoughts      0.0\n",
      "Anorxia                0.0\n",
      "Authority Respect      0.0\n",
      "Try-Explanation        0.0\n",
      "Aggressive Response    0.0\n",
      "Ignore & Move-On       0.0\n",
      "Nervous Break-down     0.0\n",
      "Admit Mistakes         0.0\n",
      "Overthinking           0.0\n",
      "Sexual Activity        0.0\n",
      "Concentration          0.0\n",
      "Optimisim              0.0\n",
      "Expert Diagnose        0.0\n",
      "dtype: float64\n"
     ]
    }
   ],
   "source": [
    "missing_values = df.isnull().sum()\n",
    "missing_rate = (missing_values / len(df)) * 100\n",
    "print(missing_rate)"
   ]
  },
  {
   "cell_type": "markdown",
   "id": "9a8d46ba-549a-4f94-a05b-73b713aeecfb",
   "metadata": {},
   "source": [
    "***Para este dataset como vimos antes no hay ningún faltante.***"
   ]
  },
  {
   "cell_type": "markdown",
   "id": "bf1b3225-f3c8-4ac2-a998-cf22d0bd382c",
   "metadata": {
    "tags": []
   },
   "source": [
    "---"
   ]
  },
  {
   "cell_type": "markdown",
   "id": "789dd277-5bcd-42ee-b4a7-60b5bb3063b2",
   "metadata": {},
   "source": [
    "***Muestra el número de datos duplicados en caso de existir.***"
   ]
  },
  {
   "cell_type": "code",
   "execution_count": 21,
   "id": "7fb77f7b-3d30-43c2-8610-138d0ce41f60",
   "metadata": {},
   "outputs": [
    {
     "data": {
      "text/plain": [
       "0"
      ]
     },
     "execution_count": 21,
     "metadata": {},
     "output_type": "execute_result"
    }
   ],
   "source": [
    "df.duplicated().sum()"
   ]
  },
  {
   "cell_type": "markdown",
   "id": "a625e5ba-5d4e-4774-bd98-07030e484a5f",
   "metadata": {
    "tags": []
   },
   "source": [
    "---"
   ]
  },
  {
   "cell_type": "markdown",
   "id": "b904ca17-db1d-4420-8d6d-6917941eb47f",
   "metadata": {},
   "source": [
    "***Muestra los nombres de las columnas y los datos que cada una de ellas toma.***"
   ]
  },
  {
   "cell_type": "code",
   "execution_count": 23,
   "id": "60c73624-f266-4f0a-ad4f-0d6ea47c5df9",
   "metadata": {},
   "outputs": [
    {
     "name": "stdout",
     "output_type": "stream",
     "text": [
      "Patient Number : ['Patiant-01' 'Patiant-02' 'Patiant-03' 'Patiant-04' 'Patiant-05'\n",
      " 'Patiant-06' 'Patiant-07' 'Patiant-08' 'Patiant-09' 'Patiant-10'\n",
      " 'Patiant-11' 'Patiant-12' 'Patiant-13' 'Patiant-14' 'Patiant-15'\n",
      " 'Patiant-16' 'Patiant-17' 'Patiant-18' 'Patiant-19' 'Patiant-20'\n",
      " 'Patiant-21' 'Patiant-22' 'Patiant-23' 'Patiant-24' 'Patiant-25'\n",
      " 'Patiant-26' 'Patiant-27' 'Patiant-28' 'Patiant-29' 'Patiant-30'\n",
      " 'Patiant-31' 'Patiant-32' 'Patiant-33' 'Patiant-34' 'Patiant-35'\n",
      " 'Patiant-36' 'Patiant-37' 'Patiant-38' 'Patiant-39' 'Patiant-40'\n",
      " 'Patiant-41' 'Patiant-42' 'Patiant-43' 'Patiant-44' 'Patiant-45'\n",
      " 'Patiant-46' 'Patiant-47' 'Patiant-48' 'Patiant-49' 'Patiant-50'\n",
      " 'Patiant-51' 'Patiant-52' 'Patiant-53' 'Patiant-54' 'Patiant-55'\n",
      " 'Patiant-56' 'Patiant-57' 'Patiant-58' 'Patiant-59' 'Patiant-60'\n",
      " 'Patiant-61' 'Patiant-62' 'Patiant-63' 'Patiant-64' 'Patiant-65'\n",
      " 'Patiant-66' 'Patiant-67' 'Patiant-68' 'Patiant-69' 'Patiant-70'\n",
      " 'Patiant-71' 'Patiant-72' 'Patiant-73' 'Patiant-74' 'Patiant-75'\n",
      " 'Patiant-76' 'Patiant-77' 'Patiant-78' 'Patiant-79' 'Patiant-80'\n",
      " 'Patiant-81' 'Patiant-82' 'Patiant-83' 'Patiant-84' 'Patiant-85'\n",
      " 'Patiant-86' 'Patiant-87' 'Patiant-88' 'Patiant-89' 'Patiant-90'\n",
      " 'Patiant-91' 'Patiant-92' 'Patiant-93' 'Patiant-94' 'Patiant-95'\n",
      " 'Patiant-96' 'Patiant-97' 'Patiant-98' 'Patiant-99' 'Patiant-100'\n",
      " 'Patiant-101' 'Patiant-102' 'Patiant-103' 'Patiant-104' 'Patiant-105'\n",
      " 'Patiant-106' 'Patiant-107' 'Patiant-108' 'Patiant-109' 'Patiant-110'\n",
      " 'Patiant-111' 'Patiant-112' 'Patiant-113' 'Patiant-114' 'Patiant-115'\n",
      " 'Patiant-116' 'Patiant-117' 'Patiant-118' 'Patiant-119' 'Patiant-120']\n",
      "Sadness : ['Usually' 'Sometimes' 'Seldom' 'Most-Often']\n",
      "Euphoric : ['Seldom' 'Most-Often' 'Usually' 'Sometimes']\n",
      "Exhausted : ['Sometimes' 'Usually' 'Seldom' 'Most-Often']\n",
      "Sleep dissorder : ['Sometimes' 'Most-Often' 'Usually' 'Seldom']\n",
      "Mood Swing : ['YES' 'NO']\n",
      "Suicidal thoughts : ['YES ' 'YES' 'NO']\n",
      "Anorxia : ['NO' 'YES']\n",
      "Authority Respect : ['NO' 'YES']\n",
      "Try-Explanation : ['YES' 'NO']\n",
      "Aggressive Response : ['NO' 'YES']\n",
      "Ignore & Move-On : ['NO' 'YES']\n",
      "Nervous Break-down : ['YES' 'NO']\n",
      "Admit Mistakes : ['YES' 'NO']\n",
      "Overthinking : ['YES' 'NO']\n",
      "Sexual Activity : ['3 From 10' '4 From 10' '6 From 10' '5 From 10' '7 From 10' '8 From 10'\n",
      " '9 From 10' '2 From 10' '1 From 10']\n",
      "Concentration : ['3 From 10' '2 From 10' '5 From 10' '4 From 10' '7 From 10' '6 From 10'\n",
      " '1 From 10' '8 From 10']\n",
      "Optimisim : ['4 From 10' '5 From 10' '7 From 10' '2 From 10' '6 From 10' '9 From 10'\n",
      " '3 From 10' '8 From 10' '1 From 10']\n",
      "Expert Diagnose : ['Bipolar Type-2' 'Depression' 'Bipolar Type-1' 'Normal']\n"
     ]
    }
   ],
   "source": [
    "column_list = df.columns.values.tolist()\n",
    "for column_name in column_list:\n",
    "    print(column_name,\":\",df[column_name].unique())\n",
    "    \n",
    "df.value_counts(normalize=True)\n",
    "\n",
    "count = df.nunique()\n",
    "\n"
   ]
  },
  {
   "cell_type": "markdown",
   "id": "a0c92ea0-b503-4239-ba01-7f1c5550e751",
   "metadata": {},
   "source": [
    "***Teniendo esto podemos ver varios detalles:***\n",
    "1. En la columna \"Patient Number\" hay letras y caracteres especiales que no son útiles para nuestro análisis, por lo que los eliminaremos.\n",
    "2. En la columna \"Suicidal Thoughts\" hay dos variantes de \"YES\". Necesitaremos unificar estos valores para asegurar consistencia.\n",
    "3. Las columnas \"Sexual Activity\", \"Concentration\", \"Optimism\" son de tipo numérico, por lo que las dejaremos como números para que sean útiles en el análisis.\n",
    "4. Las columnas \"Sadness\", \"Euphoric\", \"Exhausted\", y \"Sleep Disorder\" también representan rangos y deben ser convertidas a valores numéricos.\n",
    "5. Los valores de \"YES\" y \"NO\" se convertirán a 0 y 1, respectivamente, para facilitar su uso en el análisis.\n",
    "\n",
    "Dado que no utilizaré el diagnóstico experto en este análisis, lo dejaré fuera del DataFrame."
   ]
  },
  {
   "cell_type": "code",
   "execution_count": 27,
   "id": "b6e03e78-e2ff-463e-b435-ab146f7664d4",
   "metadata": {},
   "outputs": [
    {
     "ename": "SyntaxError",
     "evalue": "invalid syntax (3765086770.py, line 8)",
     "output_type": "error",
     "traceback": [
      "\u001b[1;36m  File \u001b[1;32m\"C:\\Users\\Jesus\\AppData\\Local\\Temp\\ipykernel_10208\\3765086770.py\"\u001b[1;36m, line \u001b[1;32m8\u001b[0m\n\u001b[1;33m    dict = {'0 From 10': 0', '1 From 10': 1', '2 From 10': 2, '3 From 10': 3, '4 From 10': 4, '6 From 10': 6, '5 From 10': 5, '7 From 10': 7, '8 From 10': 8,\u001b[0m\n\u001b[1;37m                          ^\u001b[0m\n\u001b[1;31mSyntaxError\u001b[0m\u001b[1;31m:\u001b[0m invalid syntax\n"
     ]
    }
   ],
   "source": [
    "# Solucion 1\n",
    "df['Patient Number'] = df['Patient Number'].str[8:].astype(int)\n",
    "\n",
    "# Solucion 2\n",
    "df['Suicidal thoughts'] = df['Suicidal thoughts'].replace('YES ', 'YES')\n",
    "\n",
    "# Solucion 3\n",
    "dict = {'0 From 10': 0, '1 From 10': 1, '2 From 10': 2, '3 From 10': 3, '4 From 10': 4, '6 From 10': 6, '5 From 10': 5, '7 From 10': 7, '8 From 10': 8,\n",
    " '9 From 10': 9, '10 From 10': 10}\n",
    "\n",
    "df['Sexual Activity'] = df['Sexual Activity'].replace(dict).astype(int)\n",
    "df['Concentration'] = df['Concentration'].replace(dict).astype(int)\n",
    "df['Optimisim'] = df['Optimisim'].replace(dict).astype(int)"
   ]
  },
  {
   "cell_type": "code",
   "execution_count": null,
   "id": "0ea96d74-be26-4b71-9831-5b9281dbdf85",
   "metadata": {},
   "outputs": [],
   "source": []
  },
  {
   "cell_type": "markdown",
   "id": "664902cd-bc2e-42ee-8833-031a6c9fa0ef",
   "metadata": {},
   "source": [
    "## CONCLUSION\n",
    "\n",
    "Si bien los datos son útiles para la práctica en introducción a la ciencia de datos y análisis exploratorio, el tema de la psicología y psiquiatría es más delicado que simplemente asignar valores de \"sí\" o \"no\". Por ejemplo, el cambio de estado de ánimo (Mood Swing) es muy subjetivo tanto para el observador como para el propio paciente. Además, se necesitarían detalles adicionales como la duración del episodio, el ritmo del cambio, entre otros, para poder clasificarlo adecuadamente como bipolaridad.\n",
    "\n",
    "Ya que el dataset es limitado, no sería muy útil para machine learning, ya que se necesita entrenar el modelo con diagnósticos de expertos. Con solo 17 síntomas, no sería posible capturar la sutileza de los trastornos. Además, con la actualización actual del DSM-5, la depresión ya no se clasifica un solo trastorno, sino que se divide en: trastorno depresivo mayor, trastorno distímico y trastorno depresivo no especificado."
   ]
  },
  {
   "cell_type": "code",
   "execution_count": null,
   "id": "d6c3e19f-af63-4980-8eb0-a5db0a4b711c",
   "metadata": {},
   "outputs": [],
   "source": []
  },
  {
   "cell_type": "code",
   "execution_count": null,
   "id": "59e5e3f5-1dda-412d-b90e-e08745c90dc0",
   "metadata": {},
   "outputs": [],
   "source": []
  }
 ],
 "metadata": {
  "kernelspec": {
   "display_name": "Python 3 (ipykernel)",
   "language": "python",
   "name": "python3"
  },
  "language_info": {
   "codemirror_mode": {
    "name": "ipython",
    "version": 3
   },
   "file_extension": ".py",
   "mimetype": "text/x-python",
   "name": "python",
   "nbconvert_exporter": "python",
   "pygments_lexer": "ipython3",
   "version": "3.9.13"
  }
 },
 "nbformat": 4,
 "nbformat_minor": 5
}

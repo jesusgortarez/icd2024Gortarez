{
 "cells": [
  {
   "cell_type": "markdown",
   "metadata": {},
   "source": [
    "# Instrucciones"
   ]
  },
  {
   "cell_type": "markdown",
   "metadata": {},
   "source": [
    "Construir una representación basada en Bag of Words. Se deberá leer el archivo de texto (ver adjunto) que contiene múltiples entradas de texto y dos clases distintas. El vector de características final debe tener como última columna el atributo de clase.\n",
    "Saludos,"
   ]
  },
  {
   "cell_type": "markdown",
   "metadata": {},
   "source": [
    "# Instalación necesaria"
   ]
  },
  {
   "cell_type": "code",
   "execution_count": 1,
   "metadata": {},
   "outputs": [],
   "source": [
    "#%pip install spacy\n",
    "#%pip install nltk\n",
    "#%pip install sklearn\n",
    "#%python -m spacy download es_core_news_sm\n",
    "#%spacy download es_core_news_sm\n",
    "\n",
    "#Si usas anaconda abre la terminal de tu Environments y ejecuta las lineas\n",
    "#python -m spacy download es_core_news_sm\n",
    "#spacy download es_core_news_sm\n",
    "#Reiniciar terminal y continuar (ejecutando todo de nuevo)"
   ]
  },
  {
   "cell_type": "markdown",
   "metadata": {},
   "source": [
    "# Importación de bibliotecas"
   ]
  },
  {
   "cell_type": "code",
   "execution_count": 2,
   "metadata": {},
   "outputs": [],
   "source": [
    "import pandas as pd\n",
    "import re\n",
    "import spacy as spc\n",
    "import nltk\n",
    "from nltk.corpus import stopwords\n",
    "from nltk.tokenize import word_tokenize\n",
    "from sklearn.feature_extraction.text import CountVectorizer\n",
    "\n",
    "# cargar modelo de spaCy para español necesario para la lematizacion\n",
    "nlp = spc.load(\"es_core_news_sm\")"
   ]
  },
  {
   "cell_type": "code",
   "execution_count": 3,
   "metadata": {},
   "outputs": [
    {
     "name": "stderr",
     "output_type": "stream",
     "text": [
      "[nltk_data] Downloading package punkt to\n",
      "[nltk_data]     C:\\Users\\Jesus\\AppData\\Roaming\\nltk_data...\n",
      "[nltk_data]   Package punkt is already up-to-date!\n",
      "[nltk_data] Downloading package punkt_tab to\n",
      "[nltk_data]     C:\\Users\\Jesus\\AppData\\Roaming\\nltk_data...\n",
      "[nltk_data]   Package punkt_tab is already up-to-date!\n",
      "[nltk_data] Downloading package stopwords to\n",
      "[nltk_data]     C:\\Users\\Jesus\\AppData\\Roaming\\nltk_data...\n",
      "[nltk_data]   Package stopwords is already up-to-date!\n"
     ]
    },
    {
     "data": {
      "text/plain": [
       "True"
      ]
     },
     "execution_count": 3,
     "metadata": {},
     "output_type": "execute_result"
    }
   ],
   "source": [
    "nltk.download('punkt')\n",
    "nltk.download('punkt_tab')\n",
    "nltk.download('stopwords')"
   ]
  },
  {
   "cell_type": "code",
   "execution_count": 4,
   "metadata": {},
   "outputs": [],
   "source": [
    "# Inicializar stopwords\n",
    "spanish_stopwords = stopwords.words('spanish')"
   ]
  },
  {
   "cell_type": "markdown",
   "metadata": {},
   "source": [
    "# Datos de entrada"
   ]
  },
  {
   "cell_type": "code",
   "execution_count": 5,
   "metadata": {},
   "outputs": [
    {
     "name": "stdout",
     "output_type": "stream",
     "text": [
      "    label                                               text\n",
      "0       1  ESAS COSAS Y OTRAS PUEDEN PASAR POR MANTENER A...\n",
      "1       1  28: te amodio, odio a la perra de tu amiga ☺️☺...\n",
      "2       1  @LaDivinaDiva Callate maldita perra. O seguro ...\n",
      "3       1  @MarysabelPuerto Mejor callate cara de puta o ...\n",
      "4       1  @xarita327 @TRIKYHUMOR @yonier2012 @casTa1326 ...\n",
      "5       1              @CocotePR @ashleyhonohan callate puta\n",
      "6       1  Y el inmigrante recibe ayuda del rico Estado l...\n",
      "7       1  De los moros no se puede esperar nada bueno, y...\n",
      "8       1  ¿Por que si a una mujer le pegan un tiro en la...\n",
      "9       1  Analicemos esto: ¿Si te pones unos shorts así,...\n",
      "10      0  \"See... Tal vez les recordo como Peron protegi...\n",
      "11      0  PIETRAPIERCE STORY: PURS SANGS ARABES STARS DE...\n",
      "12      0  ¿Qué dice este de frivolizar el acoso escolar?...\n",
      "13      0  #Suiza 🇨🇭 retira el permiso a 189 refugiados q...\n",
      "14      0  Hoy quiero denunciaaaaaaar A LA GENTE PUTO GUA...\n",
      "15      0  Redomicilie su sociedad offshore en Emiratos Á...\n",
      "16      0  @hermanntertsch Basta! Poned pie en pared a ta...\n",
      "17      0  SEMANA DE LA JUVENTUD. TORNEO FUTBOL7  / FUTBO...\n",
      "18      0  @lNeko_ @xTiko98 Callate y metete party de una...\n",
      "19      0  Cuántos inmigrantes creemos que hay, y cuántos...\n"
     ]
    }
   ],
   "source": [
    "# Cargar el archivo CSV\n",
    "file_path = 'df_mini_HS.csv'\n",
    "df = pd.read_csv(file_path)\n",
    "print(df)"
   ]
  },
  {
   "cell_type": "markdown",
   "metadata": {},
   "source": [
    "# Función de limpieza de oraciono"
   ]
  },
  {
   "cell_type": "code",
   "execution_count": 6,
   "metadata": {},
   "outputs": [],
   "source": [
    "def limpiar_oraciono(oracion):\n",
    "    emoji_pattern = re.compile(\"[\"\n",
    "                                u\"\\U0001F600-\\U0001F64F\"  # Emoticonos\n",
    "                                u\"\\U0001F300-\\U0001F5FF\"  # Símbolos y pictogramas\n",
    "                                u\"\\U0001F680-\\U0001F6FF\"  # Transporte y símbolos\n",
    "                                u\"\\U0001F700-\\U0001F77F\"  # Símbolos adicionales\n",
    "                                u\"\\U0001F780-\\U0001F7FF\"  # Geometría adicional\n",
    "                                u\"\\U0001F800-\\U0001F8FF\"  # Suplemento de pictogramas\n",
    "                                u\"\\U0001F900-\\U0001F9FF\"  # Pictogramas adicionales\n",
    "                                u\"\\U0001FA00-\\U0001FA6F\"  # Símbolos adicionales\n",
    "                                u\"\\U00002702-\\U000027B0\"  # Otros símbolos (corazones, flechas)\n",
    "                                u\"\\U000024C2-\\U0001F251\"  # Otros símbolos adicionales\n",
    "                                \"]+\", flags=re.UNICODE)\n",
    "    oracion = emoji_pattern.sub(r'', oracion)  # Eliminar emojis\n",
    "    oracion = oracion.lower()\n",
    "    oracion = re.sub(r\"@\\S+\", \"\", oracion)  # Eliminar menciones a usuarios\n",
    "    oracion = re.sub(r\"http[s]?\\://\\S+\", \"\", oracion)  # Eliminar enlaces \n",
    "    oracion = re.sub(r\"#\\S+\", \"\", oracion)  # Eliminar hashtags\n",
    "    oracion = re.sub(r\"[0-9]\", \"\", oracion)  # Eliminar números\n",
    "    oracion = re.sub(r\"(\\(.*\\))|(\\[.*\\])\", \"\", oracion)  # Eliminar paréntesis y corchetes\n",
    "    oracion = re.sub(r\"\\n\", \"\", oracion)  # Eliminar caracteres de nueva línea\n",
    "    oracion = re.sub(r\"(http[s]?\\://\\S+)|([\\[\\(].*[\\)\\]])|([#@]\\S+)|\\n\", \"\", oracion)  # Eliminar varios patrones\n",
    "    oracion = re.sub(r\"(\\.)|(,)\", \"\", oracion)  # Eliminar puntos y comas\n",
    "    oracion = re.sub(r\"[¡!]\", \"\", oracion)  # Eliminar signos de admiración \n",
    "    oracion = re.sub(r\"[¿?]\", \"\", oracion)  # Eliminar signos de exclamación\n",
    "    oracion = re.sub(r\"[-\\:\\/\\\"\\'\\*\\`\\s]+\", \" \", oracion).strip() #Eliminar varios caracteres\n",
    "\n",
    "    return oracion"
   ]
  },
  {
   "cell_type": "markdown",
   "metadata": {},
   "source": [
    "# Función para tokenizar, remover stopwords y lematizar con spaCy"
   ]
  },
  {
   "cell_type": "code",
   "execution_count": 7,
   "metadata": {},
   "outputs": [],
   "source": [
    "def procesamiento_oracion(oracion):\n",
    "    oracion = limpiar_oraciono(oracion)\n",
    "    tokens = word_tokenize(oracion)\n",
    "    palabras_filtradas = [palabra for palabra in tokens if palabra not in spanish_stopwords]\n",
    "    lema = nlp(\" \".join(palabras_filtradas))\n",
    "    oracion_procesada = \" \".join([token.lemma_ for token in lema])\n",
    "\n",
    "    return oracion_procesada"
   ]
  },
  {
   "cell_type": "markdown",
   "metadata": {},
   "source": [
    "# Bag of Words"
   ]
  },
  {
   "cell_type": "code",
   "execution_count": 8,
   "metadata": {},
   "outputs": [
    {
     "name": "stdout",
     "output_type": "stream",
     "text": [
      "Vocabulario: ['acoso' 'agar' 'agresión' 'amigo' 'amodio' 'analicer' 'aprieto' 'arab'\n",
      " 'arar' 'así' 'ayuda' 'bala' 'bastar' 'bueno' 'bus' 'cabeza' 'cadete'\n",
      " 'callate' 'calle' 'camello' 'cara' 'categoria' 'cerebro' 'chavista'\n",
      " 'chiste' 'chorizo' 'ciento' 'ciudadano' 'colaborador' 'colau' 'conto'\n",
      " 'cortad' 'cosa' 'creer' 'cuatro' 'cuánto' 'cállate' 'decir' 'dejar'\n",
      " 'denunciaaaaaaar' 'des' 'detras' 'dia' 'donbenitensar' 'durar' 'eichmann'\n",
      " 'elite' 'emirato' 'encontrar' 'equipo' 'escolar' 'españa' 'esperar'\n",
      " 'esperas' 'expulsar' 'falta' 'favor' 'femenino' 'festivit' 'frivolizar'\n",
      " 'fuenlabrado' 'futbol' 'garcho' 'gente' 'guarra' 'hacer' 'hijo' 'hoy'\n",
      " 'humillación' 'ilegal' 'inmigracion' 'inmigrante' 'inscrito'\n",
      " 'josewifakers' 'juventud' 'kiev' 'ko' 'ladrón' 'llamado' 'luchado'\n",
      " 'lugar' 'madre' 'maldito' 'mantener' 'mantero' 'marico' 'mata' 'medio'\n",
      " 'mejor' 'metete' 'mientras' 'minato' 'morir' 'moro' 'mujer' 'mundo'\n",
      " 'nacional' 'nazi' 'negrata' 'nota' 'odio' 'offshore' 'oler' 'olvidar'\n",
      " 'on' 'pared' 'party' 'pasar' 'país' 'peguir' 'permiso' 'peron' 'perra'\n",
      " 'perrir' 'pie' 'pietrapiercir' 'pintado' 'pobre' 'poder' 'poned' 'poner'\n",
      " 'propio' 'protegio' 'provocación' 'purs' 'puta' 'puto' 'pón' 'queréis'\n",
      " 'quiero' 'rayo' 'realidad' 'recibir' 'recordo' 'redomicilie' 'refugiado'\n",
      " 'reputa' 'retirar' 'rico' 'sang' 'see' 'seguro' 'semana' 'semejante'\n",
      " 'shame' 'shorts' 'si' 'sociedad' 'stars' 'story' 'subir' 'sudor' 'tal'\n",
      " 'tanto' 'tijerazo' 'tiro' 'tol' 'tontería' 'torneo' 'tres' 'turista'\n",
      " 'unido' 'user' 'vacación' 'verdad' 'vez' 'vida' 'viola' 'voolka' 'vía'\n",
      " 'yogurín' 'you' 'árabe' 'él']\n"
     ]
    }
   ],
   "source": [
    "# Aplica la función de procesamiento a cada oración del archivo y crea una nueva columna \"oracion_procesada\"\n",
    "df['oracion_procesada'] = df['text'].apply(procesamiento_oracion)\n",
    "\n",
    "vectorizer = CountVectorizer()\n",
    "vectores = vectorizer.fit_transform(df['oracion_procesada'])\n",
    "vocabulario = vectorizer.get_feature_names_out()\n",
    "print(f\"Vocabulario:\", vocabulario)"
   ]
  },
  {
   "cell_type": "code",
   "execution_count": 9,
   "metadata": {},
   "outputs": [
    {
     "name": "stdout",
     "output_type": "stream",
     "text": [
      "Oración de entrada [1]: ESAS COSAS Y OTRAS PUEDEN PASAR POR MANTENER A LA INMIGRACION ILEGAL EN ESPAÑA Y NO EXPULSARLOS ¿NO? - La agresión de los manteros a un turista pone a Colau en un aprieto https://t.co/C7mZWXAl9P vía @Elperiodico\n",
      "Oración lematizada [1]: cosa poder pasar mantener inmigracion ilegal españa expulsar él agresión mantero turista poner colau aprieto vía\n",
      "Vectores Bag of Words [1]: [[0 0 1 0 0 0 1 0 0 0 0 0 0 0 0 0 0 0 0 0 0 0 0 0 0 0 0 0 0 1 0 0 1 0 0 0\n",
      "  0 0 0 0 0 0 0 0 0 0 0 0 0 0 0 1 0 0 1 0 0 0 0 0 0 0 0 0 0 0 0 0 0 1 1 0\n",
      "  0 0 0 0 0 0 0 0 0 0 0 1 1 0 0 0 0 0 0 0 0 0 0 0 0 0 0 0 0 0 0 0 0 0 0 1\n",
      "  0 0 0 0 0 0 0 0 0 0 1 0 1 0 0 0 0 0 0 0 0 0 0 0 0 0 0 0 0 0 0 0 0 0 0 0\n",
      "  0 0 0 0 0 0 0 0 0 0 0 0 0 0 0 0 1 0 0 0 0 0 0 0 0 1 0 0 0 1]]\n",
      "Oración de entrada [2]: 28: te amodio, odio a la perra de tu amiga ☺️☺️pero tú eres mi vida *tijerazo*\n",
      "Oración lematizada [2]: amodio odio perra amigo vida tijerazo\n",
      "Vectores Bag of Words [2]: [[0 0 0 1 1 0 0 0 0 0 0 0 0 0 0 0 0 0 0 0 0 0 0 0 0 0 0 0 0 0 0 0 0 0 0 0\n",
      "  0 0 0 0 0 0 0 0 0 0 0 0 0 0 0 0 0 0 0 0 0 0 0 0 0 0 0 0 0 0 0 0 0 0 0 0\n",
      "  0 0 0 0 0 0 0 0 0 0 0 0 0 0 0 0 0 0 0 0 0 0 0 0 0 0 0 0 1 0 0 0 0 0 0 0\n",
      "  0 0 0 0 1 0 0 0 0 0 0 0 0 0 0 0 0 0 0 0 0 0 0 0 0 0 0 0 0 0 0 0 0 0 0 0\n",
      "  0 0 0 0 0 0 0 0 0 0 1 0 0 0 0 0 0 0 0 0 0 0 1 0 0 0 0 0 0 0]]\n",
      "Oración de entrada [3]: @LaDivinaDiva Callate maldita perra. O seguro eres un pobre marico detras de un user femenino. Chavista colaborador\n",
      "Oración lematizada [3]: callate maldito perra seguro pobre marico detras user femenino chavista colaborador\n",
      "Vectores Bag of Words [3]: [[0 0 0 0 0 0 0 0 0 0 0 0 0 0 0 0 0 1 0 0 0 0 0 1 0 0 0 0 1 0 0 0 0 0 0 0\n",
      "  0 0 0 0 0 1 0 0 0 0 0 0 0 0 0 0 0 0 0 0 0 1 0 0 0 0 0 0 0 0 0 0 0 0 0 0\n",
      "  0 0 0 0 0 0 0 0 0 0 1 0 0 1 0 0 0 0 0 0 0 0 0 0 0 0 0 0 0 0 0 0 0 0 0 0\n",
      "  0 0 0 0 1 0 0 0 0 1 0 0 0 0 0 0 0 0 0 0 0 0 0 0 0 0 0 0 0 0 0 0 0 1 0 0\n",
      "  0 0 0 0 0 0 0 0 0 0 0 0 0 0 0 0 0 0 1 0 0 0 0 0 0 0 0 0 0 0]]\n",
      "Oración de entrada [4]: @MarysabelPuerto Mejor callate cara de puta o reputa como tu madre.. Se nota que te hacen falta estos https://t.co/3jeehNQzy1\n",
      "Oración lematizada [4]: mejor callate cara puta reputa madre nota hacer falta\n",
      "Vectores Bag of Words [4]: [[0 0 0 0 0 0 0 0 0 0 0 0 0 0 0 0 0 1 0 0 1 0 0 0 0 0 0 0 0 0 0 0 0 0 0 0\n",
      "  0 0 0 0 0 0 0 0 0 0 0 0 0 0 0 0 0 0 0 1 0 0 0 0 0 0 0 0 0 1 0 0 0 0 0 0\n",
      "  0 0 0 0 0 0 0 0 0 1 0 0 0 0 0 0 1 0 0 0 0 0 0 0 0 0 0 1 0 0 0 0 0 0 0 0\n",
      "  0 0 0 0 0 0 0 0 0 0 0 0 0 0 0 0 0 1 0 0 0 0 0 0 0 0 0 0 1 0 0 0 0 0 0 0\n",
      "  0 0 0 0 0 0 0 0 0 0 0 0 0 0 0 0 0 0 0 0 0 0 0 0 0 0 0 0 0 0]]\n",
      "Oración de entrada [5]: @xarita327 @TRIKYHUMOR @yonier2012 @casTa1326 @LizMontoyapan30 @El_SuperRaton @changodepravado Cállate puta!!\n",
      "Oración lematizada [5]: cállate puto\n",
      "Vectores Bag of Words [5]: [[0 0 0 0 0 0 0 0 0 0 0 0 0 0 0 0 0 0 0 0 0 0 0 0 0 0 0 0 0 0 0 0 0 0 0 0\n",
      "  1 0 0 0 0 0 0 0 0 0 0 0 0 0 0 0 0 0 0 0 0 0 0 0 0 0 0 0 0 0 0 0 0 0 0 0\n",
      "  0 0 0 0 0 0 0 0 0 0 0 0 0 0 0 0 0 0 0 0 0 0 0 0 0 0 0 0 0 0 0 0 0 0 0 0\n",
      "  0 0 0 0 0 0 0 0 0 0 0 0 0 0 0 0 0 0 1 0 0 0 0 0 0 0 0 0 0 0 0 0 0 0 0 0\n",
      "  0 0 0 0 0 0 0 0 0 0 0 0 0 0 0 0 0 0 0 0 0 0 0 0 0 0 0 0 0 0]]\n",
      "Oración de entrada [6]: @CocotePR @ashleyhonohan callate puta\n",
      "Oración lematizada [6]: callate puto\n",
      "Vectores Bag of Words [6]: [[0 0 0 0 0 0 0 0 0 0 0 0 0 0 0 0 0 1 0 0 0 0 0 0 0 0 0 0 0 0 0 0 0 0 0 0\n",
      "  0 0 0 0 0 0 0 0 0 0 0 0 0 0 0 0 0 0 0 0 0 0 0 0 0 0 0 0 0 0 0 0 0 0 0 0\n",
      "  0 0 0 0 0 0 0 0 0 0 0 0 0 0 0 0 0 0 0 0 0 0 0 0 0 0 0 0 0 0 0 0 0 0 0 0\n",
      "  0 0 0 0 0 0 0 0 0 0 0 0 0 0 0 0 0 0 1 0 0 0 0 0 0 0 0 0 0 0 0 0 0 0 0 0\n",
      "  0 0 0 0 0 0 0 0 0 0 0 0 0 0 0 0 0 0 0 0 0 0 0 0 0 0 0 0 0 0]]\n",
      "Oración de entrada [7]: Y el inmigrante recibe ayuda del rico Estado ladrón, que se olvida de los nacionales, mientras nos viola y mata. Pintada con una verdad a medias. https://t.co/4icBlhB3j9\n",
      "Oración lematizada [7]: inmigrante recibir ayuda rico ladrón olvidar nacional mientras viola mata pintado verdad medio\n",
      "Vectores Bag of Words [7]: [[0 0 0 0 0 0 0 0 0 0 1 0 0 0 0 0 0 0 0 0 0 0 0 0 0 0 0 0 0 0 0 0 0 0 0 0\n",
      "  0 0 0 0 0 0 0 0 0 0 0 0 0 0 0 0 0 0 0 0 0 0 0 0 0 0 0 0 0 0 0 0 0 0 0 1\n",
      "  0 0 0 0 0 1 0 0 0 0 0 0 0 0 1 1 0 0 1 0 0 0 0 0 1 0 0 0 0 0 0 1 0 0 0 0\n",
      "  0 0 0 0 0 0 0 0 1 0 0 0 0 0 0 0 0 0 0 0 0 0 0 0 1 0 0 0 0 0 1 0 0 0 0 0\n",
      "  0 0 0 0 0 0 0 0 0 0 0 0 0 0 0 0 0 0 0 0 1 0 0 1 0 0 0 0 0 0]]\n",
      "Oración de entrada [8]: De los moros no se puede esperar nada bueno, y esto te lo dicen los propios árabes. Que también han luchado contra ellos.  #StopInvasion #StopIslam #Closeborders #Openborders. https://t.co/MfmBlBK55I\n",
      "Oración lematizada [8]: moro poder esperar bueno decir propio árabe luchado\n",
      "Vectores Bag of Words [8]: [[0 0 0 0 0 0 0 0 0 0 0 0 0 1 0 0 0 0 0 0 0 0 0 0 0 0 0 0 0 0 0 0 0 0 0 0\n",
      "  0 1 0 0 0 0 0 0 0 0 0 0 0 0 0 0 1 0 0 0 0 0 0 0 0 0 0 0 0 0 0 0 0 0 0 0\n",
      "  0 0 0 0 0 0 0 1 0 0 0 0 0 0 0 0 0 0 0 0 0 1 0 0 0 0 0 0 0 0 0 0 0 0 0 0\n",
      "  0 0 0 0 0 0 0 0 0 0 1 0 0 1 0 0 0 0 0 0 0 0 0 0 0 0 0 0 0 0 0 0 0 0 0 0\n",
      "  0 0 0 0 0 0 0 0 0 0 0 0 0 0 0 0 0 0 0 0 0 0 0 0 0 0 0 0 1 0]]\n",
      "Oración de entrada [9]: ¿Por que si a una mujer le pegan un tiro en la cabeza dura tres dias en morirse? Porque a los tres dias la bala encuentra el cerebro.\n",
      "Oración lematizada [9]: si mujer peguir tiro cabeza durar tres dia morir él tres dia bala encontrar cerebro\n",
      "Vectores Bag of Words [9]: [[0 0 0 0 0 0 0 0 0 0 0 1 0 0 0 1 0 0 0 0 0 0 1 0 0 0 0 0 0 0 0 0 0 0 0 0\n",
      "  0 0 0 0 0 0 2 0 1 0 0 0 1 0 0 0 0 0 0 0 0 0 0 0 0 0 0 0 0 0 0 0 0 0 0 0\n",
      "  0 0 0 0 0 0 0 0 0 0 0 0 0 0 0 0 0 0 0 0 1 0 1 0 0 0 0 0 0 0 0 0 0 0 0 0\n",
      "  0 1 0 0 0 0 0 0 0 0 0 0 0 0 0 0 0 0 0 0 0 0 0 0 0 0 0 0 0 0 0 0 0 0 0 0\n",
      "  0 0 1 0 0 0 0 0 0 0 0 1 0 0 0 2 0 0 0 0 0 0 0 0 0 0 0 0 0 1]]\n",
      "Oración de entrada [10]: Analicemos esto: ¿Si te pones unos shorts así, en la calle, ¿qué esperas que te digan? ¿Acoso? ¿O Provocación... https://t.co/vRDyNzMdCG\n",
      "Oración lematizada [10]: analicer si pón shorts así calle esperas decir acoso provocación\n",
      "Vectores Bag of Words [10]: [[1 0 0 0 0 1 0 0 0 1 0 0 0 0 0 0 0 0 1 0 0 0 0 0 0 0 0 0 0 0 0 0 0 0 0 0\n",
      "  0 1 0 0 0 0 0 0 0 0 0 0 0 0 0 0 0 1 0 0 0 0 0 0 0 0 0 0 0 0 0 0 0 0 0 0\n",
      "  0 0 0 0 0 0 0 0 0 0 0 0 0 0 0 0 0 0 0 0 0 0 0 0 0 0 0 0 0 0 0 0 0 0 0 0\n",
      "  0 0 0 0 0 0 0 0 0 0 0 0 0 0 0 1 0 0 0 1 0 0 0 0 0 0 0 0 0 0 0 0 0 0 0 0\n",
      "  0 1 1 0 0 0 0 0 0 0 0 0 0 0 0 0 0 0 0 0 0 0 0 0 0 0 0 0 0 0]]\n",
      "Oración de entrada [11]: \"See... Tal vez les recordo como Peron protegio a Eichmann y cientos de nazis. O les conto a los arabes \"\"El chiste del araba que se lo garcho un camello\"\" https://t.co/AKonmuHKn0\"\n",
      "Oración lematizada [11]: see tal vez recordo peron protegio eichmann ciento nazi conto arab chiste arar garcho camello\n",
      "Vectores Bag of Words [11]: [[0 0 0 0 0 0 0 1 1 0 0 0 0 0 0 0 0 0 0 1 0 0 0 0 1 0 1 0 0 0 1 0 0 0 0 0\n",
      "  0 0 0 0 0 0 0 0 0 1 0 0 0 0 0 0 0 0 0 0 0 0 0 0 0 0 1 0 0 0 0 0 0 0 0 0\n",
      "  0 0 0 0 0 0 0 0 0 0 0 0 0 0 0 0 0 0 0 0 0 0 0 0 0 1 0 0 0 0 0 0 0 0 0 0\n",
      "  0 0 0 1 0 0 0 0 0 0 0 0 0 0 1 0 0 0 0 0 0 0 0 0 0 1 0 0 0 0 0 0 1 0 0 0\n",
      "  0 0 0 0 0 0 0 0 1 0 0 0 0 0 0 0 0 0 0 0 0 1 0 0 0 0 0 0 0 0]]\n",
      "Oración de entrada [12]: PIETRAPIERCE STORY: PURS SANGS ARABES STARS DES FESTIVITES A AGAR EL M... https://t.co/G2HgYnflxg\n",
      "Oración lematizada [12]: pietrapiercir story purs sang arab stars des festivit agar m\n",
      "Vectores Bag of Words [12]: [[0 1 0 0 0 0 0 1 0 0 0 0 0 0 0 0 0 0 0 0 0 0 0 0 0 0 0 0 0 0 0 0 0 0 0 0\n",
      "  0 0 0 0 1 0 0 0 0 0 0 0 0 0 0 0 0 0 0 0 0 0 1 0 0 0 0 0 0 0 0 0 0 0 0 0\n",
      "  0 0 0 0 0 0 0 0 0 0 0 0 0 0 0 0 0 0 0 0 0 0 0 0 0 0 0 0 0 0 0 0 0 0 0 0\n",
      "  0 0 0 0 0 0 0 1 0 0 0 0 0 0 0 0 1 0 0 0 0 0 0 0 0 0 0 0 0 0 0 1 0 0 0 0\n",
      "  0 0 0 0 1 1 0 0 0 0 0 0 0 0 0 0 0 0 0 0 0 0 0 0 0 0 0 0 0 0]]\n",
      "Oración de entrada [13]: ¿Qué dice este de frivolizar el acoso escolar? ¿Por favor queréis dejar de decir semejantes tonterías? https://t.co/ndVjx73SH3\n",
      "Oración lematizada [13]: decir frivolizar acoso escolar favor queréis dejar decir semejante tontería\n",
      "Vectores Bag of Words [13]: [[1 0 0 0 0 0 0 0 0 0 0 0 0 0 0 0 0 0 0 0 0 0 0 0 0 0 0 0 0 0 0 0 0 0 0 0\n",
      "  0 2 1 0 0 0 0 0 0 0 0 0 0 0 1 0 0 0 0 0 1 0 0 1 0 0 0 0 0 0 0 0 0 0 0 0\n",
      "  0 0 0 0 0 0 0 0 0 0 0 0 0 0 0 0 0 0 0 0 0 0 0 0 0 0 0 0 0 0 0 0 0 0 0 0\n",
      "  0 0 0 0 0 0 0 0 0 0 0 0 0 0 0 0 0 0 0 0 1 0 0 0 0 0 0 0 0 0 0 0 0 0 0 1\n",
      "  0 0 0 0 0 0 0 0 0 0 0 0 0 1 0 0 0 0 0 0 0 0 0 0 0 0 0 0 0 0]]\n",
      "Oración de entrada [14]: #Suiza 🇨🇭 retira el permiso a 189 refugiados que fueron de vacaciones a sus países   https://t.co/CLtwIle75v vía @abc_es\n",
      "Oración lematizada [14]: retirar permiso refugiado vacación país vía\n",
      "Vectores Bag of Words [14]: [[0 0 0 0 0 0 0 0 0 0 0 0 0 0 0 0 0 0 0 0 0 0 0 0 0 0 0 0 0 0 0 0 0 0 0 0\n",
      "  0 0 0 0 0 0 0 0 0 0 0 0 0 0 0 0 0 0 0 0 0 0 0 0 0 0 0 0 0 0 0 0 0 0 0 0\n",
      "  0 0 0 0 0 0 0 0 0 0 0 0 0 0 0 0 0 0 0 0 0 0 0 0 0 0 0 0 0 0 0 0 0 0 0 0\n",
      "  1 0 1 0 0 0 0 0 0 0 0 0 0 0 0 0 0 0 0 0 0 0 0 0 0 0 0 1 0 1 0 0 0 0 0 0\n",
      "  0 0 0 0 0 0 0 0 0 0 0 0 0 0 0 0 0 0 0 1 0 0 0 0 0 1 0 0 0 0]]\n",
      "Oración de entrada [15]: Hoy quiero denunciaaaaaaar A LA GENTE PUTO GUARRA QUE HUELE A SUDOR Y CHORIZO Y SE SUBE AL BUS DEJANDO A TOL MUNDO KO. Shame on you 🤬\n",
      "Oración lematizada [15]: hoy quiero denunciaaaaaaar gente puto guarra oler sudor chorizo subir bus dejar tol mundo ko shame on you\n",
      "Vectores Bag of Words [15]: [[0 0 0 0 0 0 0 0 0 0 0 0 0 0 1 0 0 0 0 0 0 0 0 0 0 1 0 0 0 0 0 0 0 0 0 0\n",
      "  0 0 1 1 0 0 0 0 0 0 0 0 0 0 0 0 0 0 0 0 0 0 0 0 0 0 0 1 1 0 0 1 0 0 0 0\n",
      "  0 0 0 0 1 0 0 0 0 0 0 0 0 0 0 0 0 0 0 0 0 0 0 1 0 0 0 0 0 0 1 0 1 0 0 0\n",
      "  0 0 0 0 0 0 0 0 0 0 0 0 0 0 0 0 0 0 1 0 0 1 0 0 0 0 0 0 0 0 0 0 0 0 0 0\n",
      "  1 0 0 0 0 0 1 1 0 0 0 0 1 0 0 0 0 0 0 0 0 0 0 0 0 0 0 1 0 0]]\n",
      "Oración de entrada [16]: Redomicilie su sociedad offshore en Emiratos Árabes Unidos. https://t.co/gJYLHarqZA\n",
      "Oración lematizada [16]: redomicilie sociedad offshore emirato árabe unido\n",
      "Vectores Bag of Words [16]: [[0 0 0 0 0 0 0 0 0 0 0 0 0 0 0 0 0 0 0 0 0 0 0 0 0 0 0 0 0 0 0 0 0 0 0 0\n",
      "  0 0 0 0 0 0 0 0 0 0 0 1 0 0 0 0 0 0 0 0 0 0 0 0 0 0 0 0 0 0 0 0 0 0 0 0\n",
      "  0 0 0 0 0 0 0 0 0 0 0 0 0 0 0 0 0 0 0 0 0 0 0 0 0 0 0 0 0 1 0 0 0 0 0 0\n",
      "  0 0 0 0 0 0 0 0 0 0 0 0 0 0 0 0 0 0 0 0 0 0 0 0 0 0 1 0 0 0 0 0 0 0 0 0\n",
      "  0 0 0 1 0 0 0 0 0 0 0 0 0 0 0 0 0 1 0 0 0 0 0 0 0 0 0 0 1 0]]\n",
      "Oración de entrada [17]: @hermanntertsch Basta! Poned pie en pared a tanta provocación y cortad la humillación de estos cuatro hijos de perra,\n",
      "Oración lematizada [17]: bastar poned pie pared tanto provocación cortad humillación cuatro hijo perrir\n",
      "Vectores Bag of Words [17]: [[0 0 0 0 0 0 0 0 0 0 0 0 1 0 0 0 0 0 0 0 0 0 0 0 0 0 0 0 0 0 0 1 0 0 1 0\n",
      "  0 0 0 0 0 0 0 0 0 0 0 0 0 0 0 0 0 0 0 0 0 0 0 0 0 0 0 0 0 0 1 0 1 0 0 0\n",
      "  0 0 0 0 0 0 0 0 0 0 0 0 0 0 0 0 0 0 0 0 0 0 0 0 0 0 0 0 0 0 0 0 0 1 0 0\n",
      "  0 0 0 0 0 1 1 0 0 0 0 1 0 0 0 1 0 0 0 0 0 0 0 0 0 0 0 0 0 0 0 0 0 0 0 0\n",
      "  0 0 0 0 0 0 0 0 0 1 0 0 0 0 0 0 0 0 0 0 0 0 0 0 0 0 0 0 0 0]]\n",
      "Oración de entrada [18]: SEMANA DE LA JUVENTUD. TORNEO FUTBOL7  / FUTBOL 5 CATEGORIA CADETE EQUIPOS INSCRITOS: LOS YOGURINES LA ELITE RAYO DONBENITENSE LOS NEGRATAS FUENLABRADA MINATO DE KIEV LOS JOSEWIFAKERS VOOLKA... https://t.co/JQ3DiaXtbb\n",
      "Oración lematizada [18]: semana juventud torneo futbol futbol categoria cadete equipo inscrito yogurín elite rayo donbenitensar negrata fuenlabrado minato kiev josewifakers voolka\n",
      "Vectores Bag of Words [18]: [[0 0 0 0 0 0 0 0 0 0 0 0 0 0 0 0 1 0 0 0 0 1 0 0 0 0 0 0 0 0 0 0 0 0 0 0\n",
      "  0 0 0 0 0 0 0 1 0 0 1 0 0 1 0 0 0 0 0 0 0 0 0 0 1 2 0 0 0 0 0 0 0 0 0 0\n",
      "  1 1 1 1 0 0 0 0 0 0 0 0 0 0 0 0 0 0 0 1 0 0 0 0 0 0 1 0 0 0 0 0 0 0 0 0\n",
      "  0 0 0 0 0 0 0 0 0 0 0 0 0 0 0 0 0 0 0 0 0 0 1 0 0 0 0 0 0 0 0 0 0 0 1 0\n",
      "  0 0 0 0 0 0 0 0 0 0 0 0 0 0 1 0 0 0 0 0 0 0 0 0 1 0 1 0 0 0]]\n",
      "Oración de entrada [19]: @lNeko_ @xTiko98 Callate y metete party de una puta vez\n",
      "Oración lematizada [19]: callate metete party puta vez\n",
      "Vectores Bag of Words [19]: [[0 0 0 0 0 0 0 0 0 0 0 0 0 0 0 0 0 1 0 0 0 0 0 0 0 0 0 0 0 0 0 0 0 0 0 0\n",
      "  0 0 0 0 0 0 0 0 0 0 0 0 0 0 0 0 0 0 0 0 0 0 0 0 0 0 0 0 0 0 0 0 0 0 0 0\n",
      "  0 0 0 0 0 0 0 0 0 0 0 0 0 0 0 0 0 1 0 0 0 0 0 0 0 0 0 0 0 0 0 0 0 0 1 0\n",
      "  0 0 0 0 0 0 0 0 0 0 0 0 0 0 0 0 0 1 0 0 0 0 0 0 0 0 0 0 0 0 0 0 0 0 0 0\n",
      "  0 0 0 0 0 0 0 0 0 0 0 0 0 0 0 0 0 0 0 0 0 1 0 0 0 0 0 0 0 0]]\n",
      "Oración de entrada [20]: Cuántos inmigrantes creemos que hay, y cuántos hay en realidad. Ciudadanos de un lugar llamado mundo... https://t.co/ngyCsVJjBp\n",
      "Oración lematizada [20]: cuánto inmigrante creer cuánto realidad ciudadano lugar llamado mundo\n",
      "Vectores Bag of Words [20]: [[0 0 0 0 0 0 0 0 0 0 0 0 0 0 0 0 0 0 0 0 0 0 0 0 0 0 0 1 0 0 0 0 0 1 0 2\n",
      "  0 0 0 0 0 0 0 0 0 0 0 0 0 0 0 0 0 0 0 0 0 0 0 0 0 0 0 0 0 0 0 0 0 0 0 1\n",
      "  0 0 0 0 0 0 1 0 1 0 0 0 0 0 0 0 0 0 0 0 0 0 0 1 0 0 0 0 0 0 0 0 0 0 0 0\n",
      "  0 0 0 0 0 0 0 0 0 0 0 0 0 0 0 0 0 0 0 0 0 0 0 1 0 0 0 0 0 0 0 0 0 0 0 0\n",
      "  0 0 0 0 0 0 0 0 0 0 0 0 0 0 0 0 0 0 0 0 0 0 0 0 0 0 0 0 0 0]]\n"
     ]
    }
   ],
   "source": [
    "# itaracion para todas las oraciones para imprimir resultados\n",
    "for i, row in df.iterrows():\n",
    "    oracion = row['text']\n",
    "    oracion_lematizada = row['oracion_procesada']\n",
    "    \n",
    "    print(f\"Oración de entrada [{i+1}]:\", oracion)\n",
    "    print(f\"Oración lematizada [{i+1}]:\", oracion_lematizada)\n",
    "    print(f\"Vectores Bag of Words [{i+1}]:\", vectores[i].toarray())\n",
    "    "
   ]
  },
  {
   "cell_type": "code",
   "execution_count": 10,
   "metadata": {},
   "outputs": [
    {
     "data": {
      "text/html": [
       "<div>\n",
       "<style scoped>\n",
       "    .dataframe tbody tr th:only-of-type {\n",
       "        vertical-align: middle;\n",
       "    }\n",
       "\n",
       "    .dataframe tbody tr th {\n",
       "        vertical-align: top;\n",
       "    }\n",
       "\n",
       "    .dataframe thead th {\n",
       "        text-align: right;\n",
       "    }\n",
       "</style>\n",
       "<table border=\"1\" class=\"dataframe\">\n",
       "  <thead>\n",
       "    <tr style=\"text-align: right;\">\n",
       "      <th></th>\n",
       "      <th>acoso</th>\n",
       "      <th>agar</th>\n",
       "      <th>agresión</th>\n",
       "      <th>amigo</th>\n",
       "      <th>amodio</th>\n",
       "      <th>analicer</th>\n",
       "      <th>aprieto</th>\n",
       "      <th>arab</th>\n",
       "      <th>arar</th>\n",
       "      <th>así</th>\n",
       "      <th>...</th>\n",
       "      <th>vez</th>\n",
       "      <th>vida</th>\n",
       "      <th>viola</th>\n",
       "      <th>voolka</th>\n",
       "      <th>vía</th>\n",
       "      <th>yogurín</th>\n",
       "      <th>you</th>\n",
       "      <th>árabe</th>\n",
       "      <th>él</th>\n",
       "      <th>class</th>\n",
       "    </tr>\n",
       "  </thead>\n",
       "  <tbody>\n",
       "    <tr>\n",
       "      <th>0</th>\n",
       "      <td>0</td>\n",
       "      <td>0</td>\n",
       "      <td>1</td>\n",
       "      <td>0</td>\n",
       "      <td>0</td>\n",
       "      <td>0</td>\n",
       "      <td>1</td>\n",
       "      <td>0</td>\n",
       "      <td>0</td>\n",
       "      <td>0</td>\n",
       "      <td>...</td>\n",
       "      <td>0</td>\n",
       "      <td>0</td>\n",
       "      <td>0</td>\n",
       "      <td>0</td>\n",
       "      <td>1</td>\n",
       "      <td>0</td>\n",
       "      <td>0</td>\n",
       "      <td>0</td>\n",
       "      <td>1</td>\n",
       "      <td>1</td>\n",
       "    </tr>\n",
       "    <tr>\n",
       "      <th>1</th>\n",
       "      <td>0</td>\n",
       "      <td>0</td>\n",
       "      <td>0</td>\n",
       "      <td>1</td>\n",
       "      <td>1</td>\n",
       "      <td>0</td>\n",
       "      <td>0</td>\n",
       "      <td>0</td>\n",
       "      <td>0</td>\n",
       "      <td>0</td>\n",
       "      <td>...</td>\n",
       "      <td>0</td>\n",
       "      <td>1</td>\n",
       "      <td>0</td>\n",
       "      <td>0</td>\n",
       "      <td>0</td>\n",
       "      <td>0</td>\n",
       "      <td>0</td>\n",
       "      <td>0</td>\n",
       "      <td>0</td>\n",
       "      <td>1</td>\n",
       "    </tr>\n",
       "    <tr>\n",
       "      <th>2</th>\n",
       "      <td>0</td>\n",
       "      <td>0</td>\n",
       "      <td>0</td>\n",
       "      <td>0</td>\n",
       "      <td>0</td>\n",
       "      <td>0</td>\n",
       "      <td>0</td>\n",
       "      <td>0</td>\n",
       "      <td>0</td>\n",
       "      <td>0</td>\n",
       "      <td>...</td>\n",
       "      <td>0</td>\n",
       "      <td>0</td>\n",
       "      <td>0</td>\n",
       "      <td>0</td>\n",
       "      <td>0</td>\n",
       "      <td>0</td>\n",
       "      <td>0</td>\n",
       "      <td>0</td>\n",
       "      <td>0</td>\n",
       "      <td>1</td>\n",
       "    </tr>\n",
       "    <tr>\n",
       "      <th>3</th>\n",
       "      <td>0</td>\n",
       "      <td>0</td>\n",
       "      <td>0</td>\n",
       "      <td>0</td>\n",
       "      <td>0</td>\n",
       "      <td>0</td>\n",
       "      <td>0</td>\n",
       "      <td>0</td>\n",
       "      <td>0</td>\n",
       "      <td>0</td>\n",
       "      <td>...</td>\n",
       "      <td>0</td>\n",
       "      <td>0</td>\n",
       "      <td>0</td>\n",
       "      <td>0</td>\n",
       "      <td>0</td>\n",
       "      <td>0</td>\n",
       "      <td>0</td>\n",
       "      <td>0</td>\n",
       "      <td>0</td>\n",
       "      <td>1</td>\n",
       "    </tr>\n",
       "    <tr>\n",
       "      <th>4</th>\n",
       "      <td>0</td>\n",
       "      <td>0</td>\n",
       "      <td>0</td>\n",
       "      <td>0</td>\n",
       "      <td>0</td>\n",
       "      <td>0</td>\n",
       "      <td>0</td>\n",
       "      <td>0</td>\n",
       "      <td>0</td>\n",
       "      <td>0</td>\n",
       "      <td>...</td>\n",
       "      <td>0</td>\n",
       "      <td>0</td>\n",
       "      <td>0</td>\n",
       "      <td>0</td>\n",
       "      <td>0</td>\n",
       "      <td>0</td>\n",
       "      <td>0</td>\n",
       "      <td>0</td>\n",
       "      <td>0</td>\n",
       "      <td>1</td>\n",
       "    </tr>\n",
       "  </tbody>\n",
       "</table>\n",
       "<p>5 rows × 175 columns</p>\n",
       "</div>"
      ],
      "text/plain": [
       "   acoso  agar  agresión  amigo  amodio  analicer  aprieto  arab  arar  así  \\\n",
       "0      0     0         1      0       0         0        1     0     0    0   \n",
       "1      0     0         0      1       1         0        0     0     0    0   \n",
       "2      0     0         0      0       0         0        0     0     0    0   \n",
       "3      0     0         0      0       0         0        0     0     0    0   \n",
       "4      0     0         0      0       0         0        0     0     0    0   \n",
       "\n",
       "   ...  vez  vida  viola  voolka  vía  yogurín  you  árabe  él  class  \n",
       "0  ...    0     0      0       0    1        0    0      0   1      1  \n",
       "1  ...    0     1      0       0    0        0    0      0   0      1  \n",
       "2  ...    0     0      0       0    0        0    0      0   0      1  \n",
       "3  ...    0     0      0       0    0        0    0      0   0      1  \n",
       "4  ...    0     0      0       0    0        0    0      0   0      1  \n",
       "\n",
       "[5 rows x 175 columns]"
      ]
     },
     "execution_count": 10,
     "metadata": {},
     "output_type": "execute_result"
    }
   ],
   "source": [
    "# Convertir la matriz BoW a un DataFrame y agregar la clase como última columna\n",
    "df_bw = pd.DataFrame.sparse.from_spmatrix(vectores,columns = vocabulario)\n",
    "df_bw['class'] = df['label'].values\n",
    "df_bw.head()\n"
   ]
  },
  {
   "cell_type": "markdown",
   "metadata": {},
   "source": [
    "# Conclusiones"
   ]
  },
  {
   "cell_type": "markdown",
   "metadata": {},
   "source": [
    "Si bien realizar una bolsa de palabras (Bag of Words) es relativamente sencillo, la complejidad aumenta cuando los datos de entrada se vuelven menos comprensibles.\n",
    "\n",
    "En esta tarea, por ejemplo, un filtro complejo y necesario sería eliminar todas las palabras que no pertenecen al idioma español. Sin embargo, si se hace utilizando un diccionario, esto podría eliminar palabras como \"amodio\", que aunque poco comunes, son correctas. Otro problema es el uso del español antiguo, el cual tendría que ser normalizado; por ejemplo, \"cortad\" debería transformarse en \"cortar\". Además, existen palabras sin sentido aparente que, en realidad, podrían ser simplemente errores tipográficos, y eliminarlas podría hacernos perder información valiosa. Esto nos llevaría a realizar una tarea similar a la de los correctores ortográficos como el de Google, donde corregiríamos errores y sugeriríamos alternativas con algo como \"quizás quiso decir\"."
   ]
  },
  {
   "cell_type": "markdown",
   "metadata": {},
   "source": [
    "Sería bueno aclarar el propósito del Bag of Words y qué nivel de eliminación de palabras es adecuado para realizar una limpieza adecuada. También, sería útil conocer el objetivo de la tarea, de modo que el estudiante pueda decidir hasta qué punto llevar la limpieza "
   ]
  },
  {
   "cell_type": "markdown",
   "metadata": {},
   "source": [
    "## Algunas preguntas interesantes que se pueden investigar a futuro son:"
   ]
  },
  {
   "cell_type": "markdown",
   "metadata": {},
   "source": [
    "1. ¿Realmente es necesario borrar los emojis, considerando que al final la Bag of Words no los toma en cuenta?\n",
    "2. Otros caracteres que no se consideran en el proceso son: `-`, `/`, `:`, ``, `''`, `\"`, `*`. ¿Es necesario filtrarlos?\n",
    "3. ¿Por qué a veces la lematización cambia el género de las palabras, como en el caso de \"puta\" a \"puto\", mientras que en otras ocasiones sí respeta el género, dejando \"puta\"?"
   ]
  }
 ],
 "metadata": {
  "kernelspec": {
   "display_name": "DataScience",
   "language": "python",
   "name": "python3"
  },
  "language_info": {
   "codemirror_mode": {
    "name": "ipython",
    "version": 3
   },
   "file_extension": ".py",
   "mimetype": "text/x-python",
   "name": "python",
   "nbconvert_exporter": "python",
   "pygments_lexer": "ipython3",
   "version": "3.12.4"
  }
 },
 "nbformat": 4,
 "nbformat_minor": 2
}

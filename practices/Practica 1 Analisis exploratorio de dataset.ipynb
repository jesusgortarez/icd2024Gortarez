{
 "cells": [
  {
   "cell_type": "markdown",
   "id": "b39230f2-e12b-4b3e-86e8-c926eff1c153",
   "metadata": {},
   "source": [
    "# Práctica 1: Análisis exploratorio de dataset"
   ]
  },
  {
   "cell_type": "markdown",
   "id": "a5baa5fe-28ce-4cbf-8897-0a169b6d4bd5",
   "metadata": {},
   "source": [
    "Seleccionar un Dataset de interés, y realizar un análisis exploratorio, detallando en cada bloque de código las funciones aplicadas, y considerando las buenas prácticas de programación."
   ]
  },
  {
   "cell_type": "code",
   "execution_count": null,
   "id": "ec2f8a72-e702-4230-be94-cb91ff5fa99f",
   "metadata": {},
   "outputs": [],
   "source": []
  }
 ],
 "metadata": {
  "kernelspec": {
   "display_name": "Python 3 (ipykernel)",
   "language": "python",
   "name": "python3"
  },
  "language_info": {
   "codemirror_mode": {
    "name": "ipython",
    "version": 3
   },
   "file_extension": ".py",
   "mimetype": "text/x-python",
   "name": "python",
   "nbconvert_exporter": "python",
   "pygments_lexer": "ipython3",
   "version": "3.12.4"
  }
 },
 "nbformat": 4,
 "nbformat_minor": 5
}

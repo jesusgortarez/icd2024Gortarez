{
 "cells": [
  {
   "cell_type": "code",
   "execution_count": 12,
   "metadata": {},
   "outputs": [
    {
     "name": "stdout",
     "output_type": "stream",
     "text": [
      "['05.00-Machine-Learning.ipynb', '05.01-What-Is-Machine-Learning.ipynb', '05.02-Introducing-Scikit-Learn.ipynb', '05.03-Hyperparameters-and-Model-Validation.ipynb', '05.04-Feature-Engineering.ipynb', '05.05-Naive-Bayes.ipynb', '05.06-Linear-Regression.ipynb', '05.07-Support-Vector-Machines.ipynb', '05.08-Random-Forests.ipynb', '05.09-Principal-Component-Analysis.ipynb', '05.10-Manifold-Learning.ipynb', '05.11-K-Means.ipynb', '05.12-Gaussian-Mixtures.ipynb', '05.13-Kernel-Density-Estimation.ipynb', '05.14-Image-Features.ipynb', '05.15-Learning-More.ipynb']\n"
     ]
    }
   ],
   "source": [
    "import os\n",
    "from nbmanips import Notebook\n",
    "def obtener_nombres_archivos():\n",
    "  nombres_archivos = []\n",
    "  ruta_notebook = os.path.join(\"..\", \"book\", \"notebooks_v1\")\n",
    "  for nombre_archivo in os.listdir(ruta_notebook):\n",
    "    if nombre_archivo.startswith(\"05\") and nombre_archivo.endswith(\".ipynb\"):\n",
    "      nombres_archivos.append(nombre_archivo)\n",
    "  return nombres_archivos\n",
    "# Obtener la lista de nombres de archivos en el directorio actual\n",
    "nombres_archivos = obtener_nombres_archivos()\n",
    "\n",
    "# Imprimir la lista de nombres de archivos\n",
    "print(nombres_archivos)"
   ]
  },
  {
   "cell_type": "code",
   "execution_count": null,
   "metadata": {},
   "outputs": [],
   "source": [
    "import os\n",
    "from nbmanips import Notebook\n",
    "def obtener_nombres_archivos():\n",
    "  nombres_archivos = []\n",
    "  for nombre_archivo in os.listdir(\".\"):\n",
    "    if os.path.isfile(nombre_archivo) and nombre_archivo.startswith(\"04\") and nombre_archivo.endswith(\".ipynb\"):\n",
    "      nombres_archivos.append(nombre_archivo)\n",
    "  return nombres_archivos\n",
    "\n",
    "# Obtener la lista de nombres de archivos en el directorio actual\n",
    "nombres_archivos = obtener_nombres_archivos()\n",
    "\n",
    "# Imprimir la lista de nombres de archivos\n",
    "print(nombres_archivos)"
   ]
  },
  {
   "cell_type": "code",
   "execution_count": 33,
   "metadata": {},
   "outputs": [],
   "source": [
    "from nbmanips import Notebook\n",
    "\n",
    "\n",
    "# Create an empty notebook\n",
    "combined_notebook = Notebook()\n",
    "\n",
    "# Iterate through the list and add cells to the combined notebook\n",
    "for nombre in nombres_archivos:\n",
    "  nb = Notebook.read_ipynb(nombre)\n",
    "  combined_notebook += nb  # Use += to combine notebooks\n",
    "\n",
    "combined_notebook.select('markdown_cells').delete()\n",
    "\n",
    "# Save the combined notebook\n",
    "combined_notebook.to_ipynb(\"Bloque 6.ipynb\")\n"
   ]
  }
 ],
 "metadata": {
  "kernelspec": {
   "display_name": "DataScience",
   "language": "python",
   "name": "python3"
  },
  "language_info": {
   "codemirror_mode": {
    "name": "ipython",
    "version": 3
   },
   "file_extension": ".py",
   "mimetype": "text/x-python",
   "name": "python",
   "nbconvert_exporter": "python",
   "pygments_lexer": "ipython3",
   "version": "3.12.4"
  }
 },
 "nbformat": 4,
 "nbformat_minor": 2
}
